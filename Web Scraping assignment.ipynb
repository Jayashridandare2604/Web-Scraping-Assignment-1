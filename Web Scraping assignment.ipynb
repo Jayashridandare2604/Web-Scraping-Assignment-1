{
 "cells": [
  {
   "cell_type": "raw",
   "id": "c9d6cf58",
   "metadata": {},
   "source": [
    "1) Write a python program to display all the header tags from wikipedia.org.\n",
    "\n",
    "Ans :-"
   ]
  },
  {
   "cell_type": "code",
   "execution_count": 1,
   "id": "1a71ec55",
   "metadata": {},
   "outputs": [],
   "source": [
    "from bs4 import BeautifulSoup\n",
    "import requests"
   ]
  },
  {
   "cell_type": "code",
   "execution_count": 2,
   "id": "f1f3990d",
   "metadata": {},
   "outputs": [],
   "source": [
    "url = requests.get('https://en.wikipedia.org/wiki/Main_Page')"
   ]
  },
  {
   "cell_type": "code",
   "execution_count": 3,
   "id": "ac9a5646",
   "metadata": {},
   "outputs": [],
   "source": [
    "soup = BeautifulSoup(url.text,'html.parser')"
   ]
  },
  {
   "cell_type": "code",
   "execution_count": 4,
   "id": "227dad46",
   "metadata": {},
   "outputs": [
    {
     "data": {
      "text/plain": [
       "['Main Page',\n",
       " 'Welcome to Wikipedia',\n",
       " \"From today's featured article\",\n",
       " 'Did you know\\xa0...',\n",
       " 'In the news',\n",
       " 'On this day',\n",
       " \"Today's featured picture\",\n",
       " 'Other areas of Wikipedia',\n",
       " \"Wikipedia's sister projects\",\n",
       " 'Wikipedia languages',\n",
       " 'Navigation menu',\n",
       " '\\nSearch\\n']"
      ]
     },
     "execution_count": 4,
     "metadata": {},
     "output_type": "execute_result"
    }
   ],
   "source": [
    "header_tags = []\n",
    "\n",
    "for i in soup.find_all(['h1','h2','h3']):\n",
    "    header_tags.append(i.text)\n",
    "    \n",
    "header_tags"
   ]
  },
  {
   "cell_type": "raw",
   "id": "6ff033af",
   "metadata": {},
   "source": [
    "2) Write a python program to display IMDB’s Top rated 100 movies’ data (i.e. name, rating, year of release) and make data frame.\n",
    "\n",
    "Ans :- "
   ]
  },
  {
   "cell_type": "code",
   "execution_count": 5,
   "id": "fc914144",
   "metadata": {},
   "outputs": [],
   "source": [
    "from bs4 import BeautifulSoup\n",
    "import requests"
   ]
  },
  {
   "cell_type": "code",
   "execution_count": 6,
   "id": "c4472152",
   "metadata": {},
   "outputs": [],
   "source": [
    "url = requests.get('https://www.imdb.com/list/ls055592025/?sort=user_rating,desc&st_dt=&mode=detail&page=1')"
   ]
  },
  {
   "cell_type": "code",
   "execution_count": 7,
   "id": "587bade2",
   "metadata": {},
   "outputs": [],
   "source": [
    "soup = BeautifulSoup(url.content, 'html.parser')"
   ]
  },
  {
   "cell_type": "code",
   "execution_count": 8,
   "id": "e2c36cf9",
   "metadata": {},
   "outputs": [],
   "source": [
    "movie_name = []\n",
    "\n",
    "movie_rating = []\n",
    "\n",
    "year = []"
   ]
  },
  {
   "cell_type": "code",
   "execution_count": 9,
   "id": "15cd80c3",
   "metadata": {},
   "outputs": [],
   "source": [
    "movie_data = soup.find_all('div',class_=\"lister-item mode-detail\")"
   ]
  },
  {
   "cell_type": "code",
   "execution_count": 10,
   "id": "8fa5dea2",
   "metadata": {},
   "outputs": [
    {
     "data": {
      "text/plain": [
       "['The Shawshank Redemption',\n",
       " 'The Godfather',\n",
       " \"Schindler's List\",\n",
       " 'The Godfather: Part II',\n",
       " 'The Lord of the Rings: The Return of the King',\n",
       " '12 Angry Men',\n",
       " 'Pulp Fiction',\n",
       " 'Forrest Gump',\n",
       " 'Il buono, il brutto, il cattivo',\n",
       " 'Goodfellas',\n",
       " \"One Flew Over the Cuckoo's Nest\",\n",
       " \"It's a Wonderful Life\",\n",
       " 'The Green Mile',\n",
       " 'The Silence of the Lambs',\n",
       " 'Saving Private Ryan',\n",
       " 'Star Wars',\n",
       " 'The Pianist',\n",
       " 'Gladiator',\n",
       " 'Apocalypse Now',\n",
       " 'Psycho',\n",
       " 'Casablanca',\n",
       " 'Rear Window',\n",
       " 'City Lights',\n",
       " 'Braveheart',\n",
       " 'Raiders of the Lost Ark',\n",
       " 'Dr. Strangelove or: How I Learned to Stop Worrying and Love the Bomb',\n",
       " 'Amadeus',\n",
       " 'Sunset Blvd.',\n",
       " 'The Great Dictator',\n",
       " 'Good Will Hunting',\n",
       " 'Taxi Driver',\n",
       " 'A Clockwork Orange',\n",
       " '2001: A Space Odyssey',\n",
       " 'Lawrence of Arabia',\n",
       " 'Citizen Kane',\n",
       " \"Singin' in the Rain\",\n",
       " 'To Kill a Mockingbird',\n",
       " 'Vertigo',\n",
       " 'North by Northwest',\n",
       " 'The Apartment',\n",
       " 'Double Indemnity',\n",
       " 'Jurassic Park',\n",
       " 'Unforgiven',\n",
       " 'Gone with the Wind',\n",
       " 'Chinatown',\n",
       " 'Some Like It Hot',\n",
       " 'Raging Bull',\n",
       " 'The Bridge on the River Kwai',\n",
       " 'The Treasure of the Sierra Madre',\n",
       " 'Jaws',\n",
       " 'The Grapes of Wrath',\n",
       " 'Fargo',\n",
       " 'The Exorcist',\n",
       " 'The Wizard of Oz',\n",
       " 'Rocky',\n",
       " 'The Sound of Music',\n",
       " 'Dances with Wolves',\n",
       " 'The Deer Hunter',\n",
       " 'Platoon',\n",
       " 'Ben-Hur',\n",
       " 'On the Waterfront',\n",
       " 'Network',\n",
       " 'The Third Man',\n",
       " 'The Best Years of Our Lives',\n",
       " 'It Happened One Night',\n",
       " 'All Quiet on the Western Front',\n",
       " 'Mr. Smith Goes to Washington',\n",
       " 'The Graduate',\n",
       " 'Rain Man',\n",
       " 'Doctor Zhivago',\n",
       " 'A Streetcar Named Desire',\n",
       " 'Annie Hall',\n",
       " 'Butch Cassidy and the Sundance Kid',\n",
       " 'High Noon',\n",
       " 'Patton',\n",
       " 'The Maltese Falcon',\n",
       " 'Titanic',\n",
       " 'E.T. the Extra-Terrestrial',\n",
       " 'The Searchers',\n",
       " 'The Philadelphia Story',\n",
       " 'Midnight Cowboy',\n",
       " 'My Fair Lady',\n",
       " 'Bonnie and Clyde',\n",
       " 'Stagecoach',\n",
       " 'A Place in the Sun',\n",
       " 'The French Connection',\n",
       " 'Rebel Without a Cause',\n",
       " 'The African Queen',\n",
       " 'Nashville',\n",
       " 'Mutiny on the Bounty',\n",
       " 'West Side Story',\n",
       " 'Close Encounters of the Third Kind',\n",
       " 'Shane',\n",
       " 'Giant',\n",
       " 'From Here to Eternity',\n",
       " 'Wuthering Heights',\n",
       " 'Yankee Doodle Dandy',\n",
       " 'American Graffiti',\n",
       " 'Terms of Endearment',\n",
       " 'An American in Paris']"
      ]
     },
     "execution_count": 10,
     "metadata": {},
     "output_type": "execute_result"
    }
   ],
   "source": [
    "for i in movie_data:\n",
    "    name = i.h3.a.text\n",
    "    movie_name.append(name)\n",
    "    \n",
    "movie_name"
   ]
  },
  {
   "cell_type": "code",
   "execution_count": 11,
   "id": "a075b994",
   "metadata": {},
   "outputs": [
    {
     "data": {
      "text/plain": [
       "['9.3',\n",
       " '9.2',\n",
       " '9',\n",
       " '9',\n",
       " '9',\n",
       " '9',\n",
       " '8.9',\n",
       " '8.8',\n",
       " '8.8',\n",
       " '8.7',\n",
       " '8.7',\n",
       " '8.7',\n",
       " '8.6',\n",
       " '8.6',\n",
       " '8.6',\n",
       " '8.6',\n",
       " '8.6',\n",
       " '8.5',\n",
       " '8.5',\n",
       " '8.5',\n",
       " '8.5',\n",
       " '8.5',\n",
       " '8.5',\n",
       " '8.4',\n",
       " '8.4',\n",
       " '8.4',\n",
       " '8.4',\n",
       " '8.4',\n",
       " '8.4',\n",
       " '8.3',\n",
       " '8.3',\n",
       " '8.3',\n",
       " '8.3',\n",
       " '8.3',\n",
       " '8.3',\n",
       " '8.3',\n",
       " '8.3',\n",
       " '8.3',\n",
       " '8.3',\n",
       " '8.3',\n",
       " '8.3',\n",
       " '8.2',\n",
       " '8.2',\n",
       " '8.2',\n",
       " '8.2',\n",
       " '8.2',\n",
       " '8.2',\n",
       " '8.2',\n",
       " '8.2',\n",
       " '8.1',\n",
       " '8.1',\n",
       " '8.1',\n",
       " '8.1',\n",
       " '8.1',\n",
       " '8.1',\n",
       " '8.1',\n",
       " '8.1',\n",
       " '8.1',\n",
       " '8.1',\n",
       " '8.1',\n",
       " '8.1',\n",
       " '8.1',\n",
       " '8.1',\n",
       " '8.1',\n",
       " '8.1',\n",
       " '8.1',\n",
       " '8.1',\n",
       " '8',\n",
       " '8',\n",
       " '8',\n",
       " '8',\n",
       " '8',\n",
       " '8',\n",
       " '8',\n",
       " '8',\n",
       " '8',\n",
       " '7.9',\n",
       " '7.9',\n",
       " '7.9',\n",
       " '7.9',\n",
       " '7.8',\n",
       " '7.8',\n",
       " '7.8',\n",
       " '7.8',\n",
       " '7.8',\n",
       " '7.7',\n",
       " '7.7',\n",
       " '7.7',\n",
       " '7.7',\n",
       " '7.7',\n",
       " '7.6',\n",
       " '7.6',\n",
       " '7.6',\n",
       " '7.6',\n",
       " '7.6',\n",
       " '7.6',\n",
       " '7.6',\n",
       " '7.4',\n",
       " '7.4',\n",
       " '7.2']"
      ]
     },
     "execution_count": 11,
     "metadata": {},
     "output_type": "execute_result"
    }
   ],
   "source": [
    "for i in movie_data:\n",
    "    rating = i.find('span',class_=\"ipl-rating-star__rating\").text\n",
    "    movie_rating.append(rating)\n",
    "    \n",
    "movie_rating"
   ]
  },
  {
   "cell_type": "code",
   "execution_count": 12,
   "id": "9312f266",
   "metadata": {},
   "outputs": [
    {
     "data": {
      "text/plain": [
       "['1994',\n",
       " '1972',\n",
       " '1993',\n",
       " '1974',\n",
       " '2003',\n",
       " '1957',\n",
       " '1994',\n",
       " '1994',\n",
       " '1966',\n",
       " '1990',\n",
       " '1975',\n",
       " '1946',\n",
       " '1999',\n",
       " '1991',\n",
       " '1998',\n",
       " '1977',\n",
       " '2002',\n",
       " '2000',\n",
       " '1979',\n",
       " '1960',\n",
       " '1942',\n",
       " '1954',\n",
       " '1931',\n",
       " '1995',\n",
       " '1981',\n",
       " '1964',\n",
       " '1984',\n",
       " '1950',\n",
       " '1940',\n",
       " '1997',\n",
       " '1976',\n",
       " '1971',\n",
       " '1968',\n",
       " '1962',\n",
       " '1941',\n",
       " '1952',\n",
       " '1962',\n",
       " '1958',\n",
       " '1959',\n",
       " '1960',\n",
       " '1944',\n",
       " '1993',\n",
       " '1992',\n",
       " '1939',\n",
       " '1974',\n",
       " '1959',\n",
       " '1980',\n",
       " '1957',\n",
       " '1948',\n",
       " '1975',\n",
       " '1940',\n",
       " '1996',\n",
       " '1973',\n",
       " '1939',\n",
       " '1976',\n",
       " '1965',\n",
       " '1990',\n",
       " '1978',\n",
       " '1986',\n",
       " '1959',\n",
       " '1954',\n",
       " '1976',\n",
       " '1949',\n",
       " '1946',\n",
       " '1934',\n",
       " '1930',\n",
       " '1939',\n",
       " '1967',\n",
       " '1988',\n",
       " '1965',\n",
       " '1951',\n",
       " '1977',\n",
       " '1969',\n",
       " '1952',\n",
       " '1970',\n",
       " '1941',\n",
       " '1997',\n",
       " '1982',\n",
       " '1956',\n",
       " '1940',\n",
       " '1969',\n",
       " '1964',\n",
       " '1967',\n",
       " '1939',\n",
       " '1951',\n",
       " '1971',\n",
       " '1955',\n",
       " '1951',\n",
       " '1975',\n",
       " '1935',\n",
       " '1961',\n",
       " '1977',\n",
       " '1953',\n",
       " '1956',\n",
       " '1953',\n",
       " '1939',\n",
       " '1942',\n",
       " '1973',\n",
       " '1983',\n",
       " '1951']"
      ]
     },
     "execution_count": 12,
     "metadata": {},
     "output_type": "execute_result"
    }
   ],
   "source": [
    "for i in movie_data:\n",
    "    year_of_release = i.h3.find('span',class_=\"lister-item-year text-muted unbold\").text.replace('(','').replace(')','')\n",
    "    year.append(year_of_release)\n",
    "    \n",
    "year"
   ]
  },
  {
   "cell_type": "code",
   "execution_count": 13,
   "id": "9a6abce2",
   "metadata": {},
   "outputs": [],
   "source": [
    "import pandas as pd\n",
    "\n",
    "df =pd.DataFrame({'Name of movie':movie_name,'Movie Rating':movie_rating,'Year of release':year})"
   ]
  },
  {
   "cell_type": "code",
   "execution_count": 14,
   "id": "2a58417c",
   "metadata": {},
   "outputs": [
    {
     "data": {
      "text/html": [
       "<div>\n",
       "<style scoped>\n",
       "    .dataframe tbody tr th:only-of-type {\n",
       "        vertical-align: middle;\n",
       "    }\n",
       "\n",
       "    .dataframe tbody tr th {\n",
       "        vertical-align: top;\n",
       "    }\n",
       "\n",
       "    .dataframe thead th {\n",
       "        text-align: right;\n",
       "    }\n",
       "</style>\n",
       "<table border=\"1\" class=\"dataframe\">\n",
       "  <thead>\n",
       "    <tr style=\"text-align: right;\">\n",
       "      <th></th>\n",
       "      <th>Name of movie</th>\n",
       "      <th>Movie Rating</th>\n",
       "      <th>Year of release</th>\n",
       "    </tr>\n",
       "  </thead>\n",
       "  <tbody>\n",
       "    <tr>\n",
       "      <th>0</th>\n",
       "      <td>The Shawshank Redemption</td>\n",
       "      <td>9.3</td>\n",
       "      <td>1994</td>\n",
       "    </tr>\n",
       "    <tr>\n",
       "      <th>1</th>\n",
       "      <td>The Godfather</td>\n",
       "      <td>9.2</td>\n",
       "      <td>1972</td>\n",
       "    </tr>\n",
       "    <tr>\n",
       "      <th>2</th>\n",
       "      <td>Schindler's List</td>\n",
       "      <td>9</td>\n",
       "      <td>1993</td>\n",
       "    </tr>\n",
       "    <tr>\n",
       "      <th>3</th>\n",
       "      <td>The Godfather: Part II</td>\n",
       "      <td>9</td>\n",
       "      <td>1974</td>\n",
       "    </tr>\n",
       "    <tr>\n",
       "      <th>4</th>\n",
       "      <td>The Lord of the Rings: The Return of the King</td>\n",
       "      <td>9</td>\n",
       "      <td>2003</td>\n",
       "    </tr>\n",
       "    <tr>\n",
       "      <th>...</th>\n",
       "      <td>...</td>\n",
       "      <td>...</td>\n",
       "      <td>...</td>\n",
       "    </tr>\n",
       "    <tr>\n",
       "      <th>95</th>\n",
       "      <td>Wuthering Heights</td>\n",
       "      <td>7.6</td>\n",
       "      <td>1939</td>\n",
       "    </tr>\n",
       "    <tr>\n",
       "      <th>96</th>\n",
       "      <td>Yankee Doodle Dandy</td>\n",
       "      <td>7.6</td>\n",
       "      <td>1942</td>\n",
       "    </tr>\n",
       "    <tr>\n",
       "      <th>97</th>\n",
       "      <td>American Graffiti</td>\n",
       "      <td>7.4</td>\n",
       "      <td>1973</td>\n",
       "    </tr>\n",
       "    <tr>\n",
       "      <th>98</th>\n",
       "      <td>Terms of Endearment</td>\n",
       "      <td>7.4</td>\n",
       "      <td>1983</td>\n",
       "    </tr>\n",
       "    <tr>\n",
       "      <th>99</th>\n",
       "      <td>An American in Paris</td>\n",
       "      <td>7.2</td>\n",
       "      <td>1951</td>\n",
       "    </tr>\n",
       "  </tbody>\n",
       "</table>\n",
       "<p>100 rows × 3 columns</p>\n",
       "</div>"
      ],
      "text/plain": [
       "                                    Name of movie Movie Rating Year of release\n",
       "0                        The Shawshank Redemption          9.3            1994\n",
       "1                                   The Godfather          9.2            1972\n",
       "2                                Schindler's List            9            1993\n",
       "3                          The Godfather: Part II            9            1974\n",
       "4   The Lord of the Rings: The Return of the King            9            2003\n",
       "..                                            ...          ...             ...\n",
       "95                              Wuthering Heights          7.6            1939\n",
       "96                            Yankee Doodle Dandy          7.6            1942\n",
       "97                              American Graffiti          7.4            1973\n",
       "98                            Terms of Endearment          7.4            1983\n",
       "99                           An American in Paris          7.2            1951\n",
       "\n",
       "[100 rows x 3 columns]"
      ]
     },
     "execution_count": 14,
     "metadata": {},
     "output_type": "execute_result"
    }
   ],
   "source": [
    "df"
   ]
  },
  {
   "cell_type": "raw",
   "id": "9ec4ccd1",
   "metadata": {},
   "source": [
    "3) Write a python program to display IMDB’s Top rated 100 Indian movies’ data (i.e. name, rating, year of release) and make data frame.\n",
    "\n",
    "Ans :-"
   ]
  },
  {
   "cell_type": "code",
   "execution_count": 15,
   "id": "008aed8c",
   "metadata": {},
   "outputs": [],
   "source": [
    "from bs4 import BeautifulSoup\n",
    "import requests\n",
    "import pandas as pd"
   ]
  },
  {
   "cell_type": "code",
   "execution_count": 16,
   "id": "8070628c",
   "metadata": {},
   "outputs": [],
   "source": [
    "url = requests.get('https://www.imdb.com/list/ls020165734/?sort=user_rating,desc&st_dt=&mode=detail&page=1')"
   ]
  },
  {
   "cell_type": "code",
   "execution_count": 17,
   "id": "94dcb442",
   "metadata": {},
   "outputs": [],
   "source": [
    "soup = BeautifulSoup(url.content, 'html.parser')"
   ]
  },
  {
   "cell_type": "code",
   "execution_count": 18,
   "id": "3dddcd0f",
   "metadata": {},
   "outputs": [],
   "source": [
    "movie_name = []\n",
    "\n",
    "movie_rating = []\n",
    "\n",
    "year = []"
   ]
  },
  {
   "cell_type": "code",
   "execution_count": 19,
   "id": "17c37765",
   "metadata": {},
   "outputs": [],
   "source": [
    "ind_movie_data = soup.find_all('div',class_=\"lister-item mode-detail\")\n"
   ]
  },
  {
   "cell_type": "code",
   "execution_count": 20,
   "id": "c386a273",
   "metadata": {},
   "outputs": [
    {
     "data": {
      "text/plain": [
       "['Heerak Rajar Deshe',\n",
       " 'Nayakan',\n",
       " 'Galpa Holeo Satyi',\n",
       " 'Apur Sansar',\n",
       " 'Visaaranai',\n",
       " 'Iruvar',\n",
       " 'Golmaal',\n",
       " 'Dangal',\n",
       " 'Guide',\n",
       " 'Jaane Bhi Do Yaaro',\n",
       " 'Masoom',\n",
       " 'Pather Panchali',\n",
       " 'Swades: We, the People',\n",
       " 'Satya',\n",
       " 'Aparajito',\n",
       " 'Nayak',\n",
       " 'Mahanagar',\n",
       " 'Pyaasa',\n",
       " 'Gangs of Wasseypur',\n",
       " 'Queen',\n",
       " 'Dilwale Dulhania Le Jayenge',\n",
       " 'Roja',\n",
       " 'Do Bigha Zamin',\n",
       " 'Shwaas',\n",
       " 'Deool',\n",
       " 'Lagaan: Once Upon a Time in India',\n",
       " 'Masaan',\n",
       " 'Sholay',\n",
       " 'Maqbool',\n",
       " 'Charulata',\n",
       " 'Saaransh',\n",
       " 'Sarfarosh',\n",
       " 'Anand',\n",
       " 'Ardh Satya',\n",
       " 'Garm Hava',\n",
       " 'Pratidwandi',\n",
       " 'Padosan',\n",
       " 'Kanchivaram',\n",
       " 'Ugly',\n",
       " 'Dev.D',\n",
       " 'Agantuk',\n",
       " 'Gulaal',\n",
       " 'Dor',\n",
       " 'Kabuliwala',\n",
       " 'Jalsaghar',\n",
       " 'The Cloud-Capped Star',\n",
       " 'Mr. and Mrs. Iyer',\n",
       " 'Abhijaan',\n",
       " 'Unnal Mudiyum Thambi',\n",
       " 'Calcutta 71',\n",
       " 'Nagarik',\n",
       " 'Bari Theke Paliye',\n",
       " 'Hatey Bazarey',\n",
       " 'Hansuli Banker Upakatha',\n",
       " 'The Lunchbox',\n",
       " 'Ankur',\n",
       " 'Awaara',\n",
       " 'Mother India',\n",
       " 'Kaagaz Ke Phool',\n",
       " 'Utsab',\n",
       " 'Bagh Bahadur',\n",
       " 'Dil Se..',\n",
       " 'Water',\n",
       " 'Unishe April',\n",
       " 'Dweepa',\n",
       " 'Manorama: Six Feet Under',\n",
       " 'Court',\n",
       " 'The Japanese Wife',\n",
       " 'Ghatashraddha',\n",
       " 'Bandit Queen',\n",
       " 'Shatranj Ke Khilari',\n",
       " 'Ghare-Baire',\n",
       " 'Jugnu',\n",
       " 'Chorus',\n",
       " 'Sindhu Bhairavi',\n",
       " 'Ajantrik',\n",
       " 'Subarnarekha',\n",
       " 'Elippathayam',\n",
       " 'Kharij',\n",
       " 'Patang',\n",
       " 'Tahader Katha',\n",
       " 'Siddeshwari',\n",
       " 'Firaaq',\n",
       " 'Bhuvan Shome',\n",
       " 'Swayamvaram',\n",
       " 'Titas Ekti Nodir Naam',\n",
       " 'Khandhar',\n",
       " 'Kathapurushan',\n",
       " 'Pulijanmam',\n",
       " 'Thai Saheba',\n",
       " 'Kabhie Kabhie',\n",
       " 'Shaheed',\n",
       " 'Mirza Ghalib',\n",
       " 'Amma Ariyan',\n",
       " 'Samadhi',\n",
       " 'Jukti, Takko Aar Gappo',\n",
       " 'Uski Roti',\n",
       " 'Mela',\n",
       " 'Dakhal',\n",
       " 'Naya Daur']"
      ]
     },
     "execution_count": 20,
     "metadata": {},
     "output_type": "execute_result"
    }
   ],
   "source": [
    "for i in ind_movie_data:\n",
    "    name = i.h3.a.text\n",
    "    movie_name.append(name)\n",
    "    \n",
    "movie_name"
   ]
  },
  {
   "cell_type": "code",
   "execution_count": 21,
   "id": "b8d5031c",
   "metadata": {},
   "outputs": [
    {
     "data": {
      "text/plain": [
       "['8.9',\n",
       " '8.7',\n",
       " '8.6',\n",
       " '8.5',\n",
       " '8.5',\n",
       " '8.5',\n",
       " '8.5',\n",
       " '8.4',\n",
       " '8.4',\n",
       " '8.4',\n",
       " '8.4',\n",
       " '8.3',\n",
       " '8.3',\n",
       " '8.3',\n",
       " '8.3',\n",
       " '8.3',\n",
       " '8.3',\n",
       " '8.3',\n",
       " '8.2',\n",
       " '8.2',\n",
       " '8.2',\n",
       " '8.2',\n",
       " '8.2',\n",
       " '8.2',\n",
       " '8.2',\n",
       " '8.1',\n",
       " '8.1',\n",
       " '8.1',\n",
       " '8.1',\n",
       " '8.1',\n",
       " '8.1',\n",
       " '8.1',\n",
       " '8.1',\n",
       " '8.1',\n",
       " '8.1',\n",
       " '8.1',\n",
       " '8.1',\n",
       " '8.1',\n",
       " '8',\n",
       " '8',\n",
       " '8',\n",
       " '8',\n",
       " '8',\n",
       " '8',\n",
       " '7.9',\n",
       " '7.9',\n",
       " '7.9',\n",
       " '7.9',\n",
       " '7.9',\n",
       " '7.9',\n",
       " '7.9',\n",
       " '7.9',\n",
       " '7.9',\n",
       " '7.9',\n",
       " '7.8',\n",
       " '7.8',\n",
       " '7.8',\n",
       " '7.8',\n",
       " '7.8',\n",
       " '7.8',\n",
       " '7.8',\n",
       " '7.7',\n",
       " '7.7',\n",
       " '7.7',\n",
       " '7.7',\n",
       " '7.6',\n",
       " '7.6',\n",
       " '7.6',\n",
       " '7.6',\n",
       " '7.5',\n",
       " '7.5',\n",
       " '7.5',\n",
       " '7.5',\n",
       " '7.5',\n",
       " '7.5',\n",
       " '7.5',\n",
       " '7.4',\n",
       " '7.4',\n",
       " '7.4',\n",
       " '7.4',\n",
       " '7.4',\n",
       " '7.4',\n",
       " '7.3',\n",
       " '7.3',\n",
       " '7.3',\n",
       " '7.3',\n",
       " '7.3',\n",
       " '7.3',\n",
       " '7.3',\n",
       " '7.3',\n",
       " '7.2',\n",
       " '7.2',\n",
       " '7.2',\n",
       " '7.1',\n",
       " '7',\n",
       " '7',\n",
       " '6.9',\n",
       " '6.7',\n",
       " '6.3',\n",
       " '5.5']"
      ]
     },
     "execution_count": 21,
     "metadata": {},
     "output_type": "execute_result"
    }
   ],
   "source": [
    "for i in ind_movie_data:\n",
    "    rating = i.find('span',class_=\"ipl-rating-star__rating\").text\n",
    "    movie_rating.append(rating)\n",
    "    \n",
    "movie_rating"
   ]
  },
  {
   "cell_type": "code",
   "execution_count": 22,
   "id": "7ccce10f",
   "metadata": {},
   "outputs": [
    {
     "data": {
      "text/plain": [
       "['1980',\n",
       " '1987',\n",
       " '1966',\n",
       " '1959',\n",
       " '2015',\n",
       " '1997',\n",
       " '1979',\n",
       " '2016',\n",
       " '1965',\n",
       " '1983',\n",
       " '1983',\n",
       " '1955',\n",
       " '2004',\n",
       " '1998',\n",
       " '1956',\n",
       " '1966',\n",
       " '1963',\n",
       " '1957',\n",
       " '2012',\n",
       " '2013',\n",
       " '1995',\n",
       " '1992',\n",
       " '1953',\n",
       " '2004',\n",
       " '2011',\n",
       " '2001',\n",
       " '2015',\n",
       " '1975',\n",
       " '2003',\n",
       " '1964',\n",
       " '1984',\n",
       " '1999',\n",
       " '1971',\n",
       " '1983',\n",
       " '1974',\n",
       " '1970',\n",
       " '1968',\n",
       " '2008',\n",
       " '2013',\n",
       " '2009',\n",
       " '1991',\n",
       " '2009',\n",
       " '2006',\n",
       " '1961',\n",
       " '1958',\n",
       " '1960',\n",
       " '2002',\n",
       " '1962',\n",
       " '1988',\n",
       " '1971',\n",
       " '1977',\n",
       " '1958',\n",
       " '1967',\n",
       " '1962',\n",
       " '2013',\n",
       " '1974',\n",
       " '1951',\n",
       " '1957',\n",
       " '1959',\n",
       " '2000',\n",
       " '1989',\n",
       " '1998',\n",
       " 'I 2005',\n",
       " '1994',\n",
       " '2002',\n",
       " '2007',\n",
       " '2014',\n",
       " '2010',\n",
       " '1977',\n",
       " '1994',\n",
       " '1977',\n",
       " '1984',\n",
       " '1947',\n",
       " '1975',\n",
       " '1985',\n",
       " '1958',\n",
       " '1965',\n",
       " '1982',\n",
       " '1982',\n",
       " '1993',\n",
       " '1992',\n",
       " '1990',\n",
       " '2008',\n",
       " '1969',\n",
       " '1972',\n",
       " '1973',\n",
       " '1984',\n",
       " '1996',\n",
       " '2006',\n",
       " '1997',\n",
       " '1976',\n",
       " '1948',\n",
       " '1954',\n",
       " '1986',\n",
       " '1950',\n",
       " '1974',\n",
       " '1970',\n",
       " '1948',\n",
       " '1982',\n",
       " '1978']"
      ]
     },
     "execution_count": 22,
     "metadata": {},
     "output_type": "execute_result"
    }
   ],
   "source": [
    "for i in ind_movie_data:\n",
    "    year_of_release = i.h3.find('span',class_=\"lister-item-year text-muted unbold\").text.replace('(','').replace(')','')\n",
    "    year.append(year_of_release)\n",
    "    \n",
    "year"
   ]
  },
  {
   "cell_type": "code",
   "execution_count": 23,
   "id": "5913b1d3",
   "metadata": {},
   "outputs": [
    {
     "data": {
      "text/html": [
       "<div>\n",
       "<style scoped>\n",
       "    .dataframe tbody tr th:only-of-type {\n",
       "        vertical-align: middle;\n",
       "    }\n",
       "\n",
       "    .dataframe tbody tr th {\n",
       "        vertical-align: top;\n",
       "    }\n",
       "\n",
       "    .dataframe thead th {\n",
       "        text-align: right;\n",
       "    }\n",
       "</style>\n",
       "<table border=\"1\" class=\"dataframe\">\n",
       "  <thead>\n",
       "    <tr style=\"text-align: right;\">\n",
       "      <th></th>\n",
       "      <th>Name of movie</th>\n",
       "      <th>Movie Rating</th>\n",
       "      <th>Year of release</th>\n",
       "    </tr>\n",
       "  </thead>\n",
       "  <tbody>\n",
       "    <tr>\n",
       "      <th>0</th>\n",
       "      <td>Heerak Rajar Deshe</td>\n",
       "      <td>8.9</td>\n",
       "      <td>1980</td>\n",
       "    </tr>\n",
       "    <tr>\n",
       "      <th>1</th>\n",
       "      <td>Nayakan</td>\n",
       "      <td>8.7</td>\n",
       "      <td>1987</td>\n",
       "    </tr>\n",
       "    <tr>\n",
       "      <th>2</th>\n",
       "      <td>Galpa Holeo Satyi</td>\n",
       "      <td>8.6</td>\n",
       "      <td>1966</td>\n",
       "    </tr>\n",
       "    <tr>\n",
       "      <th>3</th>\n",
       "      <td>Apur Sansar</td>\n",
       "      <td>8.5</td>\n",
       "      <td>1959</td>\n",
       "    </tr>\n",
       "    <tr>\n",
       "      <th>4</th>\n",
       "      <td>Visaaranai</td>\n",
       "      <td>8.5</td>\n",
       "      <td>2015</td>\n",
       "    </tr>\n",
       "    <tr>\n",
       "      <th>...</th>\n",
       "      <td>...</td>\n",
       "      <td>...</td>\n",
       "      <td>...</td>\n",
       "    </tr>\n",
       "    <tr>\n",
       "      <th>95</th>\n",
       "      <td>Jukti, Takko Aar Gappo</td>\n",
       "      <td>7</td>\n",
       "      <td>1974</td>\n",
       "    </tr>\n",
       "    <tr>\n",
       "      <th>96</th>\n",
       "      <td>Uski Roti</td>\n",
       "      <td>6.9</td>\n",
       "      <td>1970</td>\n",
       "    </tr>\n",
       "    <tr>\n",
       "      <th>97</th>\n",
       "      <td>Mela</td>\n",
       "      <td>6.7</td>\n",
       "      <td>1948</td>\n",
       "    </tr>\n",
       "    <tr>\n",
       "      <th>98</th>\n",
       "      <td>Dakhal</td>\n",
       "      <td>6.3</td>\n",
       "      <td>1982</td>\n",
       "    </tr>\n",
       "    <tr>\n",
       "      <th>99</th>\n",
       "      <td>Naya Daur</td>\n",
       "      <td>5.5</td>\n",
       "      <td>1978</td>\n",
       "    </tr>\n",
       "  </tbody>\n",
       "</table>\n",
       "<p>100 rows × 3 columns</p>\n",
       "</div>"
      ],
      "text/plain": [
       "             Name of movie Movie Rating Year of release\n",
       "0       Heerak Rajar Deshe          8.9            1980\n",
       "1                  Nayakan          8.7            1987\n",
       "2        Galpa Holeo Satyi          8.6            1966\n",
       "3              Apur Sansar          8.5            1959\n",
       "4               Visaaranai          8.5            2015\n",
       "..                     ...          ...             ...\n",
       "95  Jukti, Takko Aar Gappo            7            1974\n",
       "96               Uski Roti          6.9            1970\n",
       "97                    Mela          6.7            1948\n",
       "98                  Dakhal          6.3            1982\n",
       "99               Naya Daur          5.5            1978\n",
       "\n",
       "[100 rows x 3 columns]"
      ]
     },
     "execution_count": 23,
     "metadata": {},
     "output_type": "execute_result"
    }
   ],
   "source": [
    "indmovie_df = pd.DataFrame({'Name of movie':movie_name,'Movie Rating':movie_rating,'Year of release':year})\n",
    "indmovie_df"
   ]
  },
  {
   "cell_type": "raw",
   "id": "ab8b6617",
   "metadata": {},
   "source": [
    "4) Write a python program to scrape product name, price and discounts from https://meesho.com/bags-ladies/pl/p7vbp .\n",
    "    \n",
    "Ans :-"
   ]
  },
  {
   "cell_type": "code",
   "execution_count": 24,
   "id": "cad000bb",
   "metadata": {},
   "outputs": [],
   "source": [
    "from bs4 import BeautifulSoup\n",
    "import requests"
   ]
  },
  {
   "cell_type": "code",
   "execution_count": 25,
   "id": "ff8592ca",
   "metadata": {},
   "outputs": [],
   "source": [
    "url = requests.get('https://meesho.com/bags-ladies/pl/p7vbp')"
   ]
  },
  {
   "cell_type": "code",
   "execution_count": 26,
   "id": "6f1a5c35",
   "metadata": {},
   "outputs": [],
   "source": [
    "soup = BeautifulSoup(url.content,'html.parser')"
   ]
  },
  {
   "cell_type": "code",
   "execution_count": 27,
   "id": "5edb502f",
   "metadata": {},
   "outputs": [
    {
     "data": {
      "text/plain": [
       "['Trendy Stylish Women Handbag',\n",
       " 'Graceful Fashionable Women Handbags',\n",
       " 'Classic Attractive Women Handbags',\n",
       " 'Voguish Alluring Women Handbags',\n",
       " 'Classic Fashionable Women Handbags',\n",
       " 'FashionableLatest Women  handbag',\n",
       " 'Fancy Modern Women Handbag',\n",
       " 'Elite Fashionable Women Handbags',\n",
       " 'Graceful Alluring Women Handbags',\n",
       " ' New Collections Of Garbage Handbags',\n",
       " 'Classic Versatile Women Handbags',\n",
       " 'Handbags',\n",
       " 'Graceful Attractive Women Handbags',\n",
       " 'Graceful Women Women Handbags ',\n",
       " 'Styles Latest Women handbags',\n",
       " 'Attractive Handbags',\n",
       " 'Fashionable Women Handbag',\n",
       " 'Classic Versatile Women Handbags',\n",
       " 'Classic Versatile Women Handbags',\n",
       " 'Ravishing Classy Women Handbags']"
      ]
     },
     "execution_count": 27,
     "metadata": {},
     "output_type": "execute_result"
    }
   ],
   "source": [
    "product_name = []\n",
    "\n",
    "for i in soup.find_all('p',class_=\"Text__StyledText-sc-oo0kvp-0 cPgaBh NewProductCard__ProductTitle_Desktop-sc-j0e7tu-4 hofZGw NewProductCard__ProductTitle_Desktop-sc-j0e7tu-4 hofZGw\"):\n",
    "    product_name.append(i.text)\n",
    "    \n",
    "product_name"
   ]
  },
  {
   "cell_type": "code",
   "execution_count": 28,
   "id": "c41f9f59",
   "metadata": {},
   "outputs": [
    {
     "data": {
      "text/plain": [
       "['₹364',\n",
       " '₹570',\n",
       " '₹534',\n",
       " '₹242',\n",
       " '₹940',\n",
       " '₹85',\n",
       " '₹1392',\n",
       " '₹1349',\n",
       " '₹434',\n",
       " '₹734',\n",
       " '₹660',\n",
       " '₹8949',\n",
       " '₹450',\n",
       " '₹284',\n",
       " '₹1119',\n",
       " '₹481',\n",
       " '₹304',\n",
       " '₹749',\n",
       " '₹267',\n",
       " '₹566']"
      ]
     },
     "execution_count": 28,
     "metadata": {},
     "output_type": "execute_result"
    }
   ],
   "source": [
    "product_price = []\n",
    "\n",
    "for i in soup.find_all('h5',class_=\"Text__StyledText-sc-oo0kvp-0 dLSsNI\"):\n",
    "    product_price.append(i.text)\n",
    "\n",
    "product_price"
   ]
  },
  {
   "cell_type": "code",
   "execution_count": 29,
   "id": "275fd39d",
   "metadata": {},
   "outputs": [
    {
     "data": {
      "text/plain": [
       "['₹50 discount on 1st order',\n",
       " '₹50 discount on 1st order',\n",
       " '₹50 discount on 1st order',\n",
       " '₹42 discount on 1st order',\n",
       " '₹50 discount on 1st order',\n",
       " '₹15 discount on 1st order',\n",
       " '₹50 discount on 1st order',\n",
       " '₹50 discount on 1st order',\n",
       " '₹50 discount on 1st order',\n",
       " '₹50 discount on 1st order',\n",
       " '₹50 discount on 1st order',\n",
       " '₹50 discount on 1st order',\n",
       " '₹50 discount on 1st order',\n",
       " '₹50 discount on 1st order',\n",
       " '₹50 discount on 1st order',\n",
       " '₹50 discount on 1st order',\n",
       " '₹50 discount on 1st order',\n",
       " '₹50 discount on 1st order',\n",
       " '₹47 discount on 1st order',\n",
       " '₹50 discount on 1st order']"
      ]
     },
     "execution_count": 29,
     "metadata": {},
     "output_type": "execute_result"
    }
   ],
   "source": [
    "product_discounts = []\n",
    "\n",
    "for i in soup.find_all('div',class_=\"Card__BaseCard-sc-b3n78k-0 iKnziG NewProductCard__DiscountRow-sc-j0e7tu-15 fpGaRM NewProductCard__DiscountRow-sc-j0e7tu-15 fpGaRM\"):\n",
    "    product_discounts.append(i.text)\n",
    "    \n",
    "product_discounts"
   ]
  },
  {
   "cell_type": "raw",
   "id": "d1504377",
   "metadata": {},
   "source": [
    "5) Write a python program to scrape cricket rankings from icc-cricket.com. You have to scrape:\n",
    "    \n",
    "    a) Top 10 ODI teams in men’s cricket along with the records for matches, points and rating.\n",
    "\n",
    "Ans :-"
   ]
  },
  {
   "cell_type": "code",
   "execution_count": 30,
   "id": "e0383a3c",
   "metadata": {},
   "outputs": [],
   "source": [
    "from bs4 import BeautifulSoup\n",
    "import requests"
   ]
  },
  {
   "cell_type": "code",
   "execution_count": 31,
   "id": "74ad31a3",
   "metadata": {},
   "outputs": [],
   "source": [
    "url = requests.get('https://www.icc-cricket.com/rankings/mens/team-rankings/odi')"
   ]
  },
  {
   "cell_type": "code",
   "execution_count": 32,
   "id": "d78bda93",
   "metadata": {},
   "outputs": [],
   "source": [
    "soup = BeautifulSoup(url.content,'html.parser')"
   ]
  },
  {
   "cell_type": "code",
   "execution_count": 33,
   "id": "ad06c071",
   "metadata": {},
   "outputs": [],
   "source": [
    "table_content = soup.find('table',{'class':'table'})"
   ]
  },
  {
   "cell_type": "code",
   "execution_count": 34,
   "id": "748bb88e",
   "metadata": {},
   "outputs": [],
   "source": [
    "data = table_content.find_all('tr')[0:20]"
   ]
  },
  {
   "cell_type": "code",
   "execution_count": 35,
   "id": "232ebe1e",
   "metadata": {},
   "outputs": [
    {
     "data": {
      "text/plain": [
       "[['1',\n",
       "  '  New Zealand NZ ',\n",
       "  '19',\n",
       "  '2,316',\n",
       "  '                             122                               '],\n",
       " ['2', '  England ENG ', '32', '3,793', '119'],\n",
       " ['3', '  Australia AUS ', '31', '3,475', '112'],\n",
       " ['4', '  India IND ', '38', '4,162', '110'],\n",
       " ['5', '  South Africa SA ', '31', '3,167', '102'],\n",
       " ['6', '  Pakistan PAK ', '30', '2,921', '97'],\n",
       " ['7', '  Bangladesh BAN ', '36', '3,350', '93'],\n",
       " ['8', '  Sri Lanka SL ', '35', '2,835', '81'],\n",
       " ['9', '  West Indies WI ', '36', '2,788', '77'],\n",
       " ['10', '  Afghanistan AFG ', '23', '1,562', '68']]"
      ]
     },
     "execution_count": 35,
     "metadata": {},
     "output_type": "execute_result"
    }
   ],
   "source": [
    "teams_matches_points_rating = []\n",
    "\n",
    "for row in range(len(data)):\n",
    "    table_row = []\n",
    "    for rows in data[row].find_all('td'):\n",
    "        table_row.append(rows.text.replace('\\n',' '))\n",
    "    teams_matches_points_rating.append(table_row)\n",
    "    \n",
    "teams_matches_points_rating[1:11]"
   ]
  },
  {
   "cell_type": "raw",
   "id": "b395ac92",
   "metadata": {},
   "source": [
    "b) Top 10 ODI Batsmen along with the records of their team and rating.\n",
    "\n",
    "Ans :-"
   ]
  },
  {
   "cell_type": "code",
   "execution_count": 36,
   "id": "67bb4379",
   "metadata": {},
   "outputs": [],
   "source": [
    "from bs4 import BeautifulSoup\n",
    "import requests"
   ]
  },
  {
   "cell_type": "code",
   "execution_count": 37,
   "id": "44b3953a",
   "metadata": {},
   "outputs": [],
   "source": [
    "url = requests.get(\"https://www.icc-cricket.com/rankings/mens/player-rankings/odi/batting\")"
   ]
  },
  {
   "cell_type": "code",
   "execution_count": 38,
   "id": "27d42663",
   "metadata": {},
   "outputs": [],
   "source": [
    "soup = BeautifulSoup(url.content,'html.parser')"
   ]
  },
  {
   "cell_type": "code",
   "execution_count": 39,
   "id": "7f827cab",
   "metadata": {},
   "outputs": [],
   "source": [
    "table_content = soup.find('table',{'class':'table rankings-table'})"
   ]
  },
  {
   "cell_type": "code",
   "execution_count": 40,
   "id": "22715878",
   "metadata": {},
   "outputs": [],
   "source": [
    "data = table_content.find_all('tr')[0:100]"
   ]
  },
  {
   "cell_type": "code",
   "execution_count": 41,
   "id": "82eba54b",
   "metadata": {},
   "outputs": [
    {
     "data": {
      "text/plain": [
       "[['                               1                            (0)   ',\n",
       "  '        Babar Azam   ',\n",
       "  '   PAK  ',\n",
       "  ' 872 ',\n",
       "  '                                   873 v England, 13/07/2021                             '],\n",
       " ['                                       2                                    (0)   ',\n",
       "  ' Virat Kohli ',\n",
       "  '  IND ',\n",
       "  '811',\n",
       "  '                                 911 v England, 12/07/2018                         '],\n",
       " ['                                       3                                    (0)   ',\n",
       "  ' Ross Taylor ',\n",
       "  '  NZ ',\n",
       "  '794',\n",
       "  '                                 841 v Bangladesh, 05/06/2019                         '],\n",
       " ['                                       4                                    (0)   ',\n",
       "  ' Rohit Sharma ',\n",
       "  '  IND ',\n",
       "  '791',\n",
       "  '                                 885 v Sri Lanka, 06/07/2019                         '],\n",
       " ['                                       5                                    (0)   ',\n",
       "  ' Quinton de Kock ',\n",
       "  '  SA ',\n",
       "  '789',\n",
       "  '                                 813 v Sri Lanka, 10/03/2019                         '],\n",
       " ['                                       6                                      (1) This player has moved up in the rankings since the previous rankings update   ',\n",
       "  ' Jonny Bairstow ',\n",
       "  '  ENG ',\n",
       "  '775',\n",
       "  '                                 796 v India, 26/03/2021                         '],\n",
       " ['                                       7                                      (1) This player has moved down in the rankings since the previous rankings update   ',\n",
       "  ' Aaron Finch ',\n",
       "  '  AUS ',\n",
       "  '771',\n",
       "  '                                 798 v England, 25/06/2019                         '],\n",
       " ['                                       8                                    (0)   ',\n",
       "  ' Rassie van der Dussen ',\n",
       "  '  SA ',\n",
       "  '769',\n",
       "  '                                 776 v Bangladesh, 20/03/2022                         '],\n",
       " ['                                       9                                    (0)   ',\n",
       "  ' David Warner ',\n",
       "  '  AUS ',\n",
       "  '758',\n",
       "  '                                 880 v Pakistan, 26/01/2017                         '],\n",
       " ['                                       10                                      (2) This player has moved up in the rankings since the previous rankings update   ',\n",
       "  ' Imam-ul-Haq ',\n",
       "  '  PAK ',\n",
       "  '746',\n",
       "  '                                 768 v South Africa, 02/04/2021                         ']]"
      ]
     },
     "execution_count": 41,
     "metadata": {},
     "output_type": "execute_result"
    }
   ],
   "source": [
    "batsmen_team_rating = []\n",
    "\n",
    "for row in range(len(data)):\n",
    "    table_row = []\n",
    "    for rows in data[row].find_all('td'):\n",
    "        table_row.append(rows.text.replace('\\n',' '))\n",
    "    batsmen_team_rating.append(table_row)\n",
    "    \n",
    "batsmen_team_rating[1:11]"
   ]
  },
  {
   "cell_type": "raw",
   "id": "561759cc",
   "metadata": {},
   "source": [
    "c) Top 10 ODI bowlers along with the records of their team and rating.\n",
    "\n",
    "Ans :-"
   ]
  },
  {
   "cell_type": "code",
   "execution_count": 43,
   "id": "3fd1e8f9",
   "metadata": {},
   "outputs": [],
   "source": [
    "from bs4 import BeautifulSoup\n",
    "import requests"
   ]
  },
  {
   "cell_type": "code",
   "execution_count": 44,
   "id": "f1809fbc",
   "metadata": {},
   "outputs": [],
   "source": [
    "url = requests.get('https://www.icc-cricket.com/rankings/mens/player-rankings/odi/bowling')"
   ]
  },
  {
   "cell_type": "code",
   "execution_count": 45,
   "id": "58b33a49",
   "metadata": {},
   "outputs": [],
   "source": [
    "soup = BeautifulSoup(url.content,'html.parser')"
   ]
  },
  {
   "cell_type": "code",
   "execution_count": 46,
   "id": "b45cdf3c",
   "metadata": {},
   "outputs": [],
   "source": [
    "table_content = soup.find('table',{'class':'table rankings-table'})"
   ]
  },
  {
   "cell_type": "code",
   "execution_count": 47,
   "id": "66e7195e",
   "metadata": {},
   "outputs": [],
   "source": [
    "data = table_content.find_all('tr')[0:100]"
   ]
  },
  {
   "cell_type": "code",
   "execution_count": 48,
   "id": "f6276fad",
   "metadata": {},
   "outputs": [
    {
     "data": {
      "text/plain": [
       "[['                               1                                ',\n",
       "  '        Trent Boult   ',\n",
       "  '   NZ  ',\n",
       "  ' 733 ',\n",
       "  '                                   770 v West Indies, 22/06/2019                             '],\n",
       " ['                                       2                                        ',\n",
       "  ' Josh Hazlewood ',\n",
       "  '  AUS ',\n",
       "  '705',\n",
       "  '                                 733 v England, 26/01/2018                         '],\n",
       " ['                                       3                                        ',\n",
       "  ' Chris Woakes ',\n",
       "  '  ENG ',\n",
       "  '700',\n",
       "  '                                 711 v Sri Lanka, 04/07/2021                         '],\n",
       " ['                                       4                                        ',\n",
       "  ' Matt Henry ',\n",
       "  '  NZ ',\n",
       "  '687',\n",
       "  '                                 691 v Bangladesh, 26/03/2021                         '],\n",
       " ['                                       5                                        ',\n",
       "  ' Mujeeb Ur Rahman ',\n",
       "  '  AFG ',\n",
       "  '681',\n",
       "  '                                 712 v Ireland, 24/01/2021                         '],\n",
       " ['                                       6                                        ',\n",
       "  ' Jasprit Bumrah ',\n",
       "  '  IND ',\n",
       "  '679',\n",
       "  '                                 841 v West Indies, 01/11/2018                         '],\n",
       " ['                                       7                                        ',\n",
       "  ' Mehedi Hasan ',\n",
       "  '  BAN ',\n",
       "  '661',\n",
       "  '                                 725 v Sri Lanka, 25/05/2021                         '],\n",
       " ['                                       8                                        ',\n",
       "  ' Shakib Al Hasan ',\n",
       "  '  BAN ',\n",
       "  '657',\n",
       "  '                                 717 v Zimbabwe, 05/11/2009                         '],\n",
       " ['                                       9                                          ',\n",
       "  ' Adam Zampa ',\n",
       "  '  AUS ',\n",
       "  '650',\n",
       "  '                                 650 v Pakistan, 29/03/2022                         '],\n",
       " ['                                       10                                        ',\n",
       "  ' Rashid Khan ',\n",
       "  '  AFG ',\n",
       "  '650',\n",
       "  '                                 806 v Pakistan, 21/09/2018                         ']]"
      ]
     },
     "execution_count": 48,
     "metadata": {},
     "output_type": "execute_result"
    }
   ],
   "source": [
    "bowlers_team_rating = []\n",
    "\n",
    "for row in range(len(data)):\n",
    "    table_row = []\n",
    "    for rows in data[row].find_all('td'):\n",
    "        table_row.append(rows.text.replace('\\n',' ').replace('(6) This player has moved up in the rankings since the previous rankings update',' ').replace('(0)',' '))\n",
    "    bowlers_team_rating.append(table_row)\n",
    "    \n",
    "bowlers_team_rating[1:11]"
   ]
  },
  {
   "cell_type": "code",
   "execution_count": null,
   "id": "c1b3d3d9",
   "metadata": {},
   "outputs": [],
   "source": []
  },
  {
   "cell_type": "raw",
   "id": "bbcec802",
   "metadata": {},
   "source": [
    "6) Write a python program to scrape cricket rankings from icc-cricket.com. You have to scrape:\n",
    "    a) Top 10 ODI teams in women’s cricket along with the records for matches, points and rating.\n",
    "\n",
    "Ans :-"
   ]
  },
  {
   "cell_type": "code",
   "execution_count": 49,
   "id": "47315e3a",
   "metadata": {},
   "outputs": [],
   "source": [
    "from bs4 import BeautifulSoup\n",
    "import requests"
   ]
  },
  {
   "cell_type": "code",
   "execution_count": 58,
   "id": "71fed329",
   "metadata": {},
   "outputs": [],
   "source": [
    "url = requests.get(\"https://www.icc-cricket.com/rankings/womens/team-rankings/odi\")"
   ]
  },
  {
   "cell_type": "code",
   "execution_count": 59,
   "id": "e9c8e385",
   "metadata": {},
   "outputs": [],
   "source": [
    "soup = BeautifulSoup(url.content,'html.parser')"
   ]
  },
  {
   "cell_type": "code",
   "execution_count": 60,
   "id": "0f4eeec5",
   "metadata": {},
   "outputs": [],
   "source": [
    "table_content = soup.find('table',{'class':'table'})"
   ]
  },
  {
   "cell_type": "code",
   "execution_count": 65,
   "id": "348f3960",
   "metadata": {},
   "outputs": [],
   "source": [
    "data = table_content.find_all('tr')[0:12]"
   ]
  },
  {
   "cell_type": "code",
   "execution_count": 67,
   "id": "a5152ab7",
   "metadata": {},
   "outputs": [
    {
     "data": {
      "text/plain": [
       "[['1',\n",
       "  '  Australia AUS ',\n",
       "  '29',\n",
       "  '4,840',\n",
       "  '                             167                               '],\n",
       " ['2', '  South Africa SA ', '28', '3,504', '125'],\n",
       " ['3', '  England ENG ', '30', '3,533', '118'],\n",
       " ['4', '  India IND ', '29', '2,890', '100'],\n",
       " ['5', '  New Zealand NZ ', '31', '3,018', '97'],\n",
       " ['6', '  West Indies WI ', '28', '2,478', '89'],\n",
       " ['7', '  Bangladesh BAN ', '12', '935', '78'],\n",
       " ['8', '  Pakistan PAK ', '26', '1,753', '67'],\n",
       " ['9', '  Ireland IRE ', '5', '240', '48'],\n",
       " ['10', '  Sri Lanka SL ', '5', '233', '47']]"
      ]
     },
     "execution_count": 67,
     "metadata": {},
     "output_type": "execute_result"
    }
   ],
   "source": [
    "bowlers_team_rating = []\n",
    "\n",
    "for row in range(len(data)):\n",
    "    table_row = []\n",
    "    for rows in data[row].find_all('td'):\n",
    "        table_row.append(rows.text.replace('\\n',' '))\n",
    "    bowlers_team_rating.append(table_row)\n",
    "    \n",
    "bowlers_team_rating[1:11]"
   ]
  },
  {
   "cell_type": "raw",
   "id": "a6f57c84",
   "metadata": {},
   "source": [
    "b) Top 10 women’s ODI Batting players along with the records of their team and rating\n",
    "\n",
    "Ans :-"
   ]
  },
  {
   "cell_type": "code",
   "execution_count": 82,
   "id": "d6fedc42",
   "metadata": {},
   "outputs": [],
   "source": [
    "url = requests.get(\"https://www.icc-cricket.com/rankings/womens/player-rankings/odi/batting\")"
   ]
  },
  {
   "cell_type": "code",
   "execution_count": 83,
   "id": "7ecb89e8",
   "metadata": {},
   "outputs": [],
   "source": [
    "soup =BeautifulSoup(url.content,'html.parser')"
   ]
  },
  {
   "cell_type": "code",
   "execution_count": 84,
   "id": "f9bc5ca0",
   "metadata": {},
   "outputs": [],
   "source": [
    "table_content = soup.find('table',{'class':'table rankings-table'})"
   ]
  },
  {
   "cell_type": "code",
   "execution_count": 85,
   "id": "87931ccf",
   "metadata": {},
   "outputs": [],
   "source": [
    "data = table_content.find_all('tr')[0:100]"
   ]
  },
  {
   "cell_type": "code",
   "execution_count": 86,
   "id": "7d525c74",
   "metadata": {},
   "outputs": [
    {
     "data": {
      "text/plain": [
       "[['                               1                                    ',\n",
       "  '        Laura Wolvaardt   ',\n",
       "  '   SA  ',\n",
       "  ' 740 ',\n",
       "  '                                   741 v Australia, 22/03/2022                             '],\n",
       " ['                                       2                                            ',\n",
       "  ' Beth Mooney ',\n",
       "  '  AUS ',\n",
       "  '726',\n",
       "  '                                 734 v England, 03/02/2022                         '],\n",
       " ['                                       3                                        ',\n",
       "  ' Meg Lanning ',\n",
       "  '  AUS ',\n",
       "  '718',\n",
       "  '                                 834 v New Zealand, 24/02/2016                         '],\n",
       " ['                                       4                                        ',\n",
       "  ' Natalie Sciver ',\n",
       "  '  ENG ',\n",
       "  '705',\n",
       "  '                                 712 v India, 25/02/2019                         '],\n",
       " ['                                       5                                        ',\n",
       "  ' Alyssa Healy ',\n",
       "  '  AUS ',\n",
       "  '703',\n",
       "  '                                 776 v India, 21/09/2021                         '],\n",
       " ['                                       6                                            ',\n",
       "  ' Mithali Raj ',\n",
       "  '  IND ',\n",
       "  '686',\n",
       "  '                                 839 v Australia, 24/12/2004                         '],\n",
       " ['                                       7                                        ',\n",
       "  ' Rachael Haynes ',\n",
       "  '  AUS ',\n",
       "  '684',\n",
       "  '                                 713 v West Indies, 15/03/2022                         '],\n",
       " ['                                       8                                            ',\n",
       "  ' Tammy Beaumont ',\n",
       "  '  ENG ',\n",
       "  '682',\n",
       "  '                                 791 v India, 27/06/2021                         '],\n",
       " ['                                       9                                            ',\n",
       "  ' Amy Satterthwaite ',\n",
       "  '  NZ ',\n",
       "  '681',\n",
       "  '                                 756 v Australia, 02/03/2017                         '],\n",
       " ['                                       10                                        ',\n",
       "  ' Smriti Mandhana ',\n",
       "  '  IND ',\n",
       "  '669',\n",
       "  '                                 797 v England, 28/02/2019                         ']]"
      ]
     },
     "execution_count": 86,
     "metadata": {},
     "output_type": "execute_result"
    }
   ],
   "source": [
    "batting_players_team_rating = []\n",
    "\n",
    "for row in range(len(data)):\n",
    "    table_row = []\n",
    "    for rows in data[row].find_all('td'):\n",
    "        table_row.append(rows.text.replace('\\n',' ').replace('This player has moved up in the rankings since the previous rankings update',' ').replace('This player has moved down in the rankings since the previous rankings update',' ').replace('(1)',' ').replace('(0)',' ').replace('(3)',' ').replace('(2)',' '))\n",
    "    batting_players_team_rating.append(table_row)\n",
    "    \n",
    "batting_players_team_rating[1:11]"
   ]
  },
  {
   "cell_type": "raw",
   "id": "1f298bd9",
   "metadata": {},
   "source": [
    "c) Top 10 women’s ODI all-rounder along with the records of their team and rating.\n",
    "\n",
    "Ans :-"
   ]
  },
  {
   "cell_type": "code",
   "execution_count": 104,
   "id": "597d7beb",
   "metadata": {},
   "outputs": [],
   "source": [
    "url = requests.get(\"https://www.icc-cricket.com/rankings/womens/player-rankings/odi/all-rounder\")"
   ]
  },
  {
   "cell_type": "code",
   "execution_count": 105,
   "id": "f1048ed1",
   "metadata": {},
   "outputs": [],
   "source": [
    "soup = BeautifulSoup(url.content,'html.parser')"
   ]
  },
  {
   "cell_type": "code",
   "execution_count": 106,
   "id": "e9974f58",
   "metadata": {},
   "outputs": [],
   "source": [
    "table_content = soup.find('table',{'class':'table rankings-table'})"
   ]
  },
  {
   "cell_type": "code",
   "execution_count": 107,
   "id": "462c1a99",
   "metadata": {},
   "outputs": [],
   "source": [
    "data = table_content.find_all('tr')[0:20]"
   ]
  },
  {
   "cell_type": "code",
   "execution_count": 108,
   "id": "d5c095fb",
   "metadata": {},
   "outputs": [
    {
     "data": {
      "text/plain": [
       "[['                               1                                ',\n",
       "  '        Ellyse Perry   ',\n",
       "  '   AUS  ',\n",
       "  ' 404 ',\n",
       "  '                                   548 v West Indies, 11/09/2019                             '],\n",
       " ['                                       2                                        ',\n",
       "  ' Natalie Sciver ',\n",
       "  '  ENG ',\n",
       "  '376',\n",
       "  '                                 391 v New Zealand, 16/09/2021                         '],\n",
       " ['                                       3                                        ',\n",
       "  ' Marizanne Kapp ',\n",
       "  '  SA ',\n",
       "  '359',\n",
       "  '                                 419 v West Indies, 10/09/2021                         '],\n",
       " ['                                       4                                        ',\n",
       "  ' Hayley Matthews ',\n",
       "  '  WI ',\n",
       "  '340',\n",
       "  '                                 365 v India, 12/03/2022                         '],\n",
       " ['                                       5                                        ',\n",
       "  ' Amelia Kerr ',\n",
       "  '  NZ ',\n",
       "  '335',\n",
       "  '                                 339 v South Africa, 17/03/2022                         '],\n",
       " ['                                       6                                        ',\n",
       "  ' Ashleigh Gardner ',\n",
       "  '  AUS ',\n",
       "  '278',\n",
       "  '                                 278 v Bangladesh, 25/03/2022                         '],\n",
       " ['                                       7                                        ',\n",
       "  ' Deepti Sharma ',\n",
       "  '  IND ',\n",
       "  '249',\n",
       "  '                                 397 v South Africa, 09/10/2019                         '],\n",
       " ['                                       8                                        ',\n",
       "  ' Jess Jonassen ',\n",
       "  '  AUS ',\n",
       "  '246',\n",
       "  '                                 308 v West Indies, 11/09/2019                         '],\n",
       " ['                                       9                                            ',\n",
       "  ' Katherine Brunt ',\n",
       "  '  ENG ',\n",
       "  '239',\n",
       "  '                                 296 v Australia, 03/02/2022                         '],\n",
       " ['                                       10                                            ',\n",
       "  ' Jhulan Goswami ',\n",
       "  '  IND ',\n",
       "  '217',\n",
       "  '                                 308 v Australia, 02/02/2016                         ']]"
      ]
     },
     "execution_count": 108,
     "metadata": {},
     "output_type": "execute_result"
    }
   ],
   "source": [
    "allrounder_team_rating = []\n",
    "\n",
    "for row in range(len(data)):\n",
    "    table_row = []\n",
    "    for rows in data[row].find_all('td'):\n",
    "        table_row.append(rows.text.replace('\\n',' ').replace('This player has moved up in the rankings since the previous rankings update',' ').replace('This player has moved down in the rankings since the previous rankings update',' ').replace('(1)',' ').replace('(0)',' ').replace('(3)',' ').replace('(2)',' '))\n",
    "    allrounder_team_rating.append(table_row)\n",
    "    \n",
    "allrounder_team_rating[1:11]"
   ]
  },
  {
   "cell_type": "raw",
   "id": "bbf95f76",
   "metadata": {},
   "source": [
    "7) Write a python program to scrape details of all the posts from coreyms.com. Scrape the heading, date, content\n",
    "and the code for the video from the link for the youtube video from the post.\n",
    "\n",
    "Ans :-"
   ]
  },
  {
   "cell_type": "code",
   "execution_count": 51,
   "id": "6911ec0c",
   "metadata": {},
   "outputs": [],
   "source": [
    "from bs4 import BeautifulSoup\n",
    "import requests"
   ]
  },
  {
   "cell_type": "code",
   "execution_count": 52,
   "id": "b9c924cb",
   "metadata": {},
   "outputs": [],
   "source": [
    "url = requests.get(\"https://coreyms.com/\")"
   ]
  },
  {
   "cell_type": "code",
   "execution_count": 53,
   "id": "02dcdc79",
   "metadata": {},
   "outputs": [],
   "source": [
    "soup = BeautifulSoup(url.content,'html.parser')"
   ]
  },
  {
   "cell_type": "code",
   "execution_count": 54,
   "id": "614cf46b",
   "metadata": {},
   "outputs": [
    {
     "data": {
      "text/plain": [
       "['Python Tutorial: Zip Files – Creating and Extracting Zip Archives',\n",
       " 'Python Data Science Tutorial: Analyzing the 2019 Stack Overflow Developer Survey',\n",
       " 'Python Multiprocessing Tutorial: Run Code in Parallel Using the Multiprocessing Module',\n",
       " 'Python Threading Tutorial: Run Code Concurrently Using the Threading Module',\n",
       " 'Update (2019-09-03)',\n",
       " 'Python Quick Tip: The Difference Between “==” and “is” (Equality vs Identity)',\n",
       " 'Python Tutorial: Calling External Commands Using the Subprocess Module',\n",
       " 'Visual Studio Code (Windows) – Setting up a Python Development Environment and Complete Overview',\n",
       " 'Visual Studio Code (Mac) – Setting up a Python Development Environment and Complete Overview',\n",
       " 'Clarifying the Issues with Mutable Default Arguments']"
      ]
     },
     "execution_count": 54,
     "metadata": {},
     "output_type": "execute_result"
    }
   ],
   "source": [
    "heading = []\n",
    "\n",
    "for i in soup.find_all('a',class_=\"entry-title-link\"):\n",
    "    heading.append(i.text)\n",
    "    \n",
    "heading"
   ]
  },
  {
   "cell_type": "code",
   "execution_count": 55,
   "id": "b88dadeb",
   "metadata": {},
   "outputs": [
    {
     "data": {
      "text/plain": [
       "['November 19, 2019',\n",
       " 'October 17, 2019',\n",
       " 'September 21, 2019',\n",
       " 'September 12, 2019',\n",
       " 'September 3, 2019',\n",
       " 'August 6, 2019',\n",
       " 'July 24, 2019',\n",
       " 'May 1, 2019',\n",
       " 'May 1, 2019',\n",
       " 'April 24, 2019']"
      ]
     },
     "execution_count": 55,
     "metadata": {},
     "output_type": "execute_result"
    }
   ],
   "source": [
    "date = []\n",
    "\n",
    "for i in soup.find_all('time',class_=\"entry-time\"):\n",
    "    date.append(i.text)\n",
    "    \n",
    "date"
   ]
  },
  {
   "cell_type": "code",
   "execution_count": 56,
   "id": "3706b9b5",
   "metadata": {},
   "outputs": [
    {
     "data": {
      "text/plain": [
       "['Development, Design, DIY, and more',\n",
       " 'November 19, 2019 by Corey Schafer Leave a Comment ',\n",
       " 'In this video, we will be learning how to create and extract zip archives. We will start by using the zipfile module, and then we will see how to do this using the shutil module. We will learn how to do this with single files and directories, as well as learning how to use gzip as well. Let’s get started…',\n",
       " 'Filed Under: Development, Python Tagged With: gzip, shutil, zip, zipfile',\n",
       " 'October 17, 2019 by Corey Schafer Leave a Comment ',\n",
       " 'In this Python Programming video, we will be learning how to download and analyze real-world data from the 2019 Stack Overflow Developer Survey. This is terrific practice for anyone getting into the data science field. We will learn different ways to analyze this data and also some best practices. Let’s get started…',\n",
       " 'Filed Under: Development, Python Tagged With: data analysis, Data Science, stack overflow',\n",
       " 'September 21, 2019 by Corey Schafer Leave a Comment ',\n",
       " 'In this Python Programming video, we will be learning how to run code in parallel using the multiprocessing module. We will also look at how to process multiple high-resolution images at the same time using a ProcessPoolExecutor from the concurrent.futures module. Let’s get started…',\n",
       " 'Filed Under: Development, Python Tagged With: asynchronous, concurrent.futures, multiprocessing, parallel, threading',\n",
       " 'September 12, 2019 by Corey Schafer Leave a Comment ',\n",
       " 'In this Python Programming video, we will be learning how to run threads concurrently using the threading module. We will also look at how to download multiple high-resolution images online using a ThreadPoolExecutor from the concurrent.futures module. Let’s get started…',\n",
       " 'Filed Under: Development, Python Tagged With: asynchronous, concurrency, multiprocessing, threading',\n",
       " 'September 3, 2019 by Corey Schafer Leave a Comment ',\n",
       " 'Hey everyone. I wanted to give you an update on my videos. I will be releasing videos on threading and multiprocessing within the next week. Thanks so much for your patience. I currently have a temporary recording studio setup at my Airbnb that will allow me to record and edit the threading/multiprocessing videos. I am going to be moving into my new house in 10 days and once I have my recording studio setup then you can expect much faster video releases. I really appreciate how patient everyone has been while I go through this move, especially those of you who are contributing monthly through YouTube ',\n",
       " 'Filed Under: General ',\n",
       " 'August 6, 2019 by Corey Schafer Leave a Comment ',\n",
       " 'In this Python Programming Tutorial, we will be learning the difference between using “==” and the “is” keyword when doing comparisons. The difference between these is that “==” checks to see if values are equal, and the “is” keyword checks their identity, which means it’s going to check if the values are identical in terms of being the same object in memory. We’ll learn more in the video. Let’s get started…',\n",
       " 'Filed Under: Development, Python Tagged With: == vs is, equality, identity',\n",
       " 'July 24, 2019 by Corey Schafer Leave a Comment ',\n",
       " 'In this Python Programming Tutorial, we will be learning how to run external commands using the subprocess module from the standard library. We will learn how to run commands, capture the output, handle errors, and also how to pipe output into other commands. Let’s get started…',\n",
       " 'Filed Under: Development, Python Tagged With: standard library, subprocess',\n",
       " 'May 1, 2019 by Corey Schafer Leave a Comment ',\n",
       " 'In this Python Programming Tutorial, we will be learning how to set up a Python development environment in VSCode on Windows. VSCode is a very nice free editor for writing Python applications and many developers are now switching over to this editor. In this video, we will learn how to install VSCode, get the Python extension installed, how to change Python interpreters, create virtual environments, format/lint our code, how to use Git within VSCode, how to debug our programs, how unit testing works, and more. We have a lot to cover, so let’s go ahead and get started…',\n",
       " 'VSCode on MacOS – https://youtu.be/06I63_p-2A4',\n",
       " 'Timestamps for topics in this tutorial: Installation – 1:13 Python Extension – 5:48 Switching Interpreters – 10:04 Changing Color Themes – 12:35 VSCode Settings – 16:16 Set Default Python – 21:33 Using Virtual Environments – 25:10 IntelliSense – 29:45 Code Formatting – 32:13 Code Linting – 37:06 Code Runner Extension – 39:42 Git Integration – 47:44 Use Different Terminal – 51:07 Debugging – 58:45 Unit Testing – 1:03:25 Zen Mode – 1:09:55',\n",
       " 'Filed Under: Development, Python Tagged With: Development Environment, visual studio code, visual studios, vs code, vscode',\n",
       " 'May 1, 2019 by Corey Schafer Leave a Comment ',\n",
       " 'In this Python Programming Tutorial, we will be learning how to set up a Python development environment in VSCode on MacOS. VSCode is a very nice free editor for writing Python applications and many developers are now switching over to this editor. In this video, we will learn how to install VSCode, get the Python extension installed, how to change Python interpreters, create virtual environments, format/lint our code, how to use Git within VSCode, how to debug our programs, how unit testing works, and more. We have a lot to cover, so let’s go ahead and get started…',\n",
       " 'VSCode on Windows – https://youtu.be/-nh9rCzPJ20',\n",
       " 'Timestamps for topics in this tutorial: Installation – 1:11 Python Extension – 6:21 Switching Interpreters – 10:16 Changing Color Themes – 13:08 VSCode Settings – 17:12 Set Default Python – 22:24 Using Virtual Environments – 25:52 IntelliSense – 30:28 Code Formatting – 33:08 Code Linting – 38:01 Code Runner Extension – 40:45 Git Integration – 49:05 Debugging – 58:15 Unit Testing – 1:02:38 Zen Mode – 1:10:42 ',\n",
       " 'Filed Under: Development, Python Tagged With: Development Environment, visual studio code, visual studios, vs code, vscode',\n",
       " 'April 24, 2019 by Corey Schafer Leave a Comment ',\n",
       " 'In this Python Programming Tutorial, we will be clarifying the issues with mutable default arguments. We discussed this in my last video titled “5 Common Python Mistakes and How to Fix Them”, but I received many comments from people who were still confused. So we will be doing a deeper dive to explain exactly what is going on here. Let’s get started…',\n",
       " 'Filed Under: Development, Python Tagged With: common errors, common mistakes, functions, mutable default arguments',\n",
       " 'Thank You! If you would like to have your name listed as a contributor and support the website, you can do so through my Patreon Page. I am extremely grateful for any support.',\n",
       " '©\\xa02022 · CoreyMS · Corey Schafer']"
      ]
     },
     "execution_count": 56,
     "metadata": {},
     "output_type": "execute_result"
    }
   ],
   "source": [
    "content = []\n",
    "\n",
    "for i in soup.find_all('p'):\n",
    "    content.append(i.text)\n",
    "    \n",
    "content"
   ]
  },
  {
   "cell_type": "code",
   "execution_count": 57,
   "id": "49555faf",
   "metadata": {},
   "outputs": [
    {
     "data": {
      "text/plain": [
       "['https://www.youtube.com/embed/z0gguhEmWiY?version=3&rel=1&showsearch=0&showinfo=1&iv_load_policy=1&fs=1&hl=en-US&autohide=2&wmode=transparent',\n",
       " 'https://www.youtube.com/embed/_P7X8tMplsw?version=3&rel=1&showsearch=0&showinfo=1&iv_load_policy=1&fs=1&hl=en-US&autohide=2&wmode=transparent',\n",
       " 'https://www.youtube.com/embed/fKl2JW_qrso?version=3&rel=1&showsearch=0&showinfo=1&iv_load_policy=1&fs=1&hl=en-US&autohide=2&wmode=transparent',\n",
       " 'https://www.youtube.com/embed/IEEhzQoKtQU?version=3&rel=1&showsearch=0&showinfo=1&iv_load_policy=1&fs=1&hl=en-US&autohide=2&wmode=transparent',\n",
       " 'https://www.youtube.com/embed/mO_dS3rXDIs?version=3&rel=1&showsearch=0&showinfo=1&iv_load_policy=1&fs=1&hl=en-US&autohide=2&wmode=transparent',\n",
       " 'https://www.youtube.com/embed/2Fp1N6dof0Y?version=3&rel=1&showsearch=0&showinfo=1&iv_load_policy=1&fs=1&hl=en-US&autohide=2&wmode=transparent',\n",
       " 'https://www.youtube.com/embed/-nh9rCzPJ20?version=3&rel=1&showsearch=0&showinfo=1&iv_load_policy=1&fs=1&hl=en-US&autohide=2&wmode=transparent',\n",
       " 'https://www.youtube.com/embed/06I63_p-2A4?version=3&rel=1&showsearch=0&showinfo=1&iv_load_policy=1&fs=1&hl=en-US&autohide=2&wmode=transparent',\n",
       " 'https://www.youtube.com/embed/_JGmemuINww?version=3&rel=1&showsearch=0&showinfo=1&iv_load_policy=1&fs=1&hl=en-US&autohide=2&wmode=transparent']"
      ]
     },
     "execution_count": 57,
     "metadata": {},
     "output_type": "execute_result"
    }
   ],
   "source": [
    "video_code = []\n",
    "\n",
    "for i in soup.find_all('iframe',class_=\"youtube-player\"):\n",
    "    video_code.append(i['src'])\n",
    "    \n",
    "video_code"
   ]
  },
  {
   "cell_type": "raw",
   "id": "270fb49f",
   "metadata": {},
   "source": [
    "8) Write a python program to scrape house details from mentioned URL. It should include house title, location, area, EMI and price from https://www.nobroker.in/ .Enter three localities which are Indira Nagar, Jayanagar, Rajaji Nagar.\n",
    "\n",
    "Ans :-"
   ]
  },
  {
   "cell_type": "code",
   "execution_count": 58,
   "id": "926afa87",
   "metadata": {},
   "outputs": [],
   "source": [
    "from bs4 import BeautifulSoup\n",
    "import requests"
   ]
  },
  {
   "cell_type": "code",
   "execution_count": 59,
   "id": "6f6ccf9e",
   "metadata": {},
   "outputs": [],
   "source": [
    "url = requests.get('https://www.nobroker.in/property/sale/bangalore/multiple?searchParam=W3sibGF0IjoxMi45OTgxNzMyLCJsb24iOjc3LjU1MzA0NDU5OTk5OTk5LCJwbGFjZUlkIjoiQ2hJSnhmVzREUE05cmpzUktzTlRHLTVwX1FRIiwicGxhY2VOYW1lIjoiUmFqYWppbmFnYXIifSx7ImxhdCI6MTMuMDY5ODI4MSwibG9uIjo3Ny41ODk2MDU0OTk5OTk5OSwicGxhY2VJZCI6IkNoSUp6MFVtVFNJWXJqc1JtQkRYTTJ2V0t6cyIsInBsYWNlTmFtZSI6IkluZHJhIE5hZ2FyIn0seyJsYXQiOjEyLjkzMDc3MzUsImxvbiI6NzcuNTgzODMwMiwicGxhY2VJZCI6IkNoSUoyZGRsWjVnVnJqc1JoMUJPQWFmLW9ycyIsInBsYWNlTmFtZSI6IkpheWFuYWdhciJ9XQ==&radius=2.0&city=bangalore&locality=Rajajinagar,&locality=Indra%20Nagar,&locality=Jayanag')"
   ]
  },
  {
   "cell_type": "code",
   "execution_count": 60,
   "id": "1b20fbe0",
   "metadata": {},
   "outputs": [],
   "source": [
    "soup = BeautifulSoup(url.content,'html.parser')"
   ]
  },
  {
   "cell_type": "code",
   "execution_count": 61,
   "id": "ca2bc27f",
   "metadata": {},
   "outputs": [
    {
     "data": {
      "text/plain": [
       "['1 BHK Apartment  For Sale  In L In Hebbal',\n",
       " '3 BHK Flat  For Sale  In L&t Rain Tree Boulevard In Hebbal',\n",
       " '4 BHK Flat  For Sale  In L&t Rain Tree Boulevard In Hebbal',\n",
       " '2 BHK Apartment  For Sale  In L&t Raintree Boulevard In Byatarayanapura',\n",
       " '3 BHK Flat  For Sale  In L&t Raintree Boulevard In Byatarayanapura',\n",
       " '3 BHK Apartment  For Sale  In L&t Raintree Boulevard In Byatarayanapura',\n",
       " '3 BHK Apartment  For Sale  In L&t Raintree Boulevard In Byatarayanapura',\n",
       " '3 BHK Apartment  For Sale  In L&t Raintree Boulevard In Byatarayanapura',\n",
       " '1 BHK Apartment  For Sale  In L&t Raintree Boulevard In Byatarayanapura',\n",
       " '3 BHK Flat  For Sale  In L&t Raintree Boulevard In Byatarayanapura',\n",
       " '2 BHK Apartment  For Sale  In Unique Signature In Sahakara Nagar',\n",
       " '2 BHK Flat  For Sale  In Unique Signature, Sahakara Nagar In 5th Cross Road',\n",
       " '4 BHK Apartment  For Sale  In L&t Raintree Boulevard, Byatarayanapura In Sahakar Nagar Ground',\n",
       " '3 BHK Flat  For Sale  In Apartment In Byatarayanapura',\n",
       " '3 BHK Flat  For Sale  In L&t Raintree Boulevard In Byatarayanapura',\n",
       " '2 BHK Apartment  For Sale  In Pyramid Greenwoods In Sabrinagar',\n",
       " '2 BHK Apartment  For Sale  In Samvriddhi Gardenia In Byatarayanapura',\n",
       " '3 BHK Apartment  For Sale  In Samvriddhi Gardenia In Byatarayanapura',\n",
       " '3 BHK Apartment  For Sale  In Samvriddhi Gardenia In Byatarayanapura',\n",
       " '3 BHK Flat  For Sale  In Samvriddhi Gardenia In Byatarayanapura',\n",
       " '3 BHK Apartment  For Sale  In Samvriddhi Gardenia In Byatarayanapura',\n",
       " '3 BHK Apartment  For Sale  In Samvriddhi Gardenia In Byatarayanapura',\n",
       " '3 BHK Apartment  For Sale  In Provident Welworth City In Marasandra Apartment Bus Stop',\n",
       " '2 BHK Apartment  For Sale  In Pyramid Greenwoods In Sahakar Nagar',\n",
       " '2 BHK Flat  For Sale  In Pyramid Greenwoods In Sahakar Nagar']"
      ]
     },
     "execution_count": 61,
     "metadata": {},
     "output_type": "execute_result"
    }
   ],
   "source": [
    "house_title = []\n",
    "\n",
    "for i in soup.find_all('h2',class_=\"heading-6 flex items-center font-semi-bold m-0\"):\n",
    "    house_title.append(i.text)\n",
    "    \n",
    "house_title"
   ]
  },
  {
   "cell_type": "code",
   "execution_count": 62,
   "id": "16aad75a",
   "metadata": {},
   "outputs": [
    {
     "data": {
      "text/plain": [
       "['L\\xa0 Bellary Road, Byatarayanapura, Hebbal, Bangalore-560092, Karnataka, INDIA.',\n",
       " 'Bellary Road, Byatarayanapura, Hebbal, Bangalore-560092, Karnataka, INDIA.',\n",
       " 'Bellary Road, Byatarayanapura, Hebbal, Bangalore-560092, Karnataka, INDIA.',\n",
       " 'L&T Raintree Boulevard\\xa0 Bellary Rd, Shabhari Nagar, Byatarayanapura',\n",
       " 'Near motherhood hospital',\n",
       " 'L&T Raintree Boulevard\\xa0 Bellary Rd, Shabhari Nagar, Byatarayanapura',\n",
       " 'L&T Raintree Boulevard\\xa0 Bellary Rd, Shabhari Nagar, Byatarayanapura',\n",
       " 'L&T Raintree Boulevard\\xa0 Bellary Rd, Shabhari Nagar, Byatarayanapura',\n",
       " 'L&T Raintree Boulevard\\xa0 Bellary Rd, Shabhari Nagar, Byatarayanapura',\n",
       " 'bellary road',\n",
       " 'Unique Signature\\xa0 5th Cross, Indra Nagar, Sahakara Nagar, Bangalore, Karnataka, INDIA.',\n",
       " '5th Cross, Indra Nagar, Sahakara Nagar, Bangalore, Karnataka, INDIA.',\n",
       " 'L&T Raintree Boulevard, Byatarayanapura\\xa0 Bellary Rd, Shabhari Nagar, Byatarayanapura',\n",
       " 'Bellary Rd Indra Nagar, Shabhari Nagar, near L&T Raintree Boulevard',\n",
       " 'Bellary Rd, Shabhari Nagar, Byatarayanapura',\n",
       " 'Pyramid Greenwoods\\xa0 Pyramid Greenwoods, Ayappa Temple Road, Indra Nagar, Sahakar Nagar, Bengaluru, Karnataka 560092, India',\n",
       " 'Samvriddhi Gardenia\\xa0 Sahakar Nagar, Byatarayanapura, Indra Nagar, Sahakar Nagar, Bengaluru, Karnataka 560092, India',\n",
       " 'Samvriddhi Gardenia\\xa0 Sahakar Nagar, Byatarayanapura, Bengaluru, Karnataka 560092, India',\n",
       " 'Samvriddhi Gardenia\\xa0 Sahakar Nagar, Byatarayanapura, Bengaluru, Karnataka 560092, India',\n",
       " 'Sahakar Nagar, Byatarayanapura, Bengaluru, Karnataka 560092, India',\n",
       " 'Samvriddhi Gardenia\\xa0 Sahakar Nagar, Byatarayanapura, Bengaluru, Karnataka 560092, India',\n",
       " 'Samvriddhi Gardenia\\xa0 Sahakar Nagar, Byatarayanapura, Bengaluru, Karnataka 560092, India',\n",
       " 'Provident Welworth City\\xa0 Doddaballapura Main Rd Marasandra Amanikere',\n",
       " 'Pyramid Greenwoods\\xa0 Pyramid Greenwoods, Ayappa Temple Road, Indra Nagar, Sahakar Nagar, Bengaluru, Karnataka 560092, India',\n",
       " 'Pyramid Greenwoods, Ayappa Temple Road, Indra Nagar, Sahakar Nagar, Bengaluru, Karnataka 560092, India']"
      ]
     },
     "execution_count": 62,
     "metadata": {},
     "output_type": "execute_result"
    }
   ],
   "source": [
    "house_location = []\n",
    "\n",
    "for i in soup.find_all('div',class_=\"mt-0.5p overflow-hidden overflow-ellipsis whitespace-nowrap max-w-70 text-gray-light leading-4 po:mb-0 po:max-w-95\"):\n",
    "    house_location.append(i.text)\n",
    "    \n",
    "house_location"
   ]
  },
  {
   "cell_type": "code",
   "execution_count": 63,
   "id": "68aacc2d",
   "metadata": {},
   "outputs": [
    {
     "data": {
      "text/plain": [
       "['  490 sqftBuiltup     ₹34,102/MonthEstimated EMI     ₹59.5 Lacs     ₹12,143 per sq.ft.',\n",
       " '  1,355 sqftBuiltup     ₹75,655/MonthEstimated EMI     ₹1.32 Crores     ₹9,742 per sq.ft.',\n",
       " '  2,500 sqftBuiltup     ₹1.38 Lacs/MonthEstimated EMI     ₹2.41 Crores     ₹9,640 per sq.ft.',\n",
       " '  1,316 sqftBuiltup     ₹91,703/MonthEstimated EMI     ₹1.6 Crores     ₹12,158 per sq.ft.',\n",
       " '  1,645 sqftBuiltup     ₹1.2 Lacs/MonthEstimated EMI     ₹2.1 Crores     ₹12,766 per sq.ft.',\n",
       " '  1,320 sqftBuiltup     ₹85,971/MonthEstimated EMI     ₹1.5 Crores     ₹11,364 per sq.ft.',\n",
       " '  1,645 sqftBuiltup     ₹1.15 Lacs/MonthEstimated EMI     ₹2 Crores     ₹12,158 per sq.ft.',\n",
       " '  1,320 sqftBuiltup     ₹91,703/MonthEstimated EMI     ₹1.6 Crores     ₹12,121 per sq.ft.',\n",
       " '  500 sqftBuiltup     ₹36,108/MonthEstimated EMI     ₹63 Lacs     ₹12,600 per sq.ft.',\n",
       " '  1,320 sqftBuiltup     ₹88,837/MonthEstimated EMI     ₹1.55 Crores     ₹11,742 per sq.ft.',\n",
       " '  1,332 sqftBuiltup     ₹57,314/MonthEstimated EMI     ₹1 Crore     ₹7,508 per sq.ft.',\n",
       " '  1,169 sqftBuiltup     ₹36,108/MonthEstimated EMI     ₹63 Lacs     ₹5,389 per sq.ft.',\n",
       " '  2,790 sqftBuiltup     ₹1.69 Lacs/MonthEstimated EMI     ₹2.95 Crores     ₹10,573 per sq.ft.',\n",
       " '  2,300 sqftBuiltup     ₹1.06 Lacs/MonthEstimated EMI     ₹1.85 Crores     ₹8,043 per sq.ft.',\n",
       " '  1,985 sqftBuiltup     ₹1.17 Lacs/MonthEstimated EMI     ₹2.05 Crores     ₹10,327 per sq.ft.',\n",
       " '  1,286 sqftBuiltup     ₹36,108/MonthEstimated EMI     ₹63 Lacs     ₹4,899 per sq.ft.',\n",
       " '  1,197 sqftBuiltup     ₹37,254/MonthEstimated EMI     ₹65 Lacs     ₹5,430 per sq.ft.',\n",
       " '  1,598 sqftBuiltup     ₹65,911/MonthEstimated EMI     ₹1.15 Crores     ₹7,196 per sq.ft.',\n",
       " '  1,900 sqftBuiltup     ₹65,911/MonthEstimated EMI     ₹1.15 Crores     ₹6,053 per sq.ft.',\n",
       " '  1,608 sqftBuiltup     ₹54,448/MonthEstimated EMI     ₹95 Lacs     ₹5,908 per sq.ft.',\n",
       " '  1,598 sqftBuiltup     ₹51,583/MonthEstimated EMI     ₹90 Lacs     ₹5,632 per sq.ft.',\n",
       " '  1,350 sqftBuiltup     ₹45,364/MonthEstimated EMI     ₹79.15 Lacs     ₹5,863 per sq.ft.',\n",
       " '  1,180 sqftBuiltup     ₹34,388/MonthEstimated EMI     ₹60 Lacs     ₹5,085 per sq.ft.',\n",
       " '  1,240 sqftBuiltup     ₹37,254/MonthEstimated EMI     ₹65 Lacs     ₹5,242 per sq.ft.',\n",
       " '  1,270 sqftBuiltup     ₹34,388/MonthEstimated EMI     ₹60 Lacs     ₹4,724 per sq.ft.']"
      ]
     },
     "execution_count": 63,
     "metadata": {},
     "output_type": "execute_result"
    }
   ],
   "source": [
    "house_area_emi_price = []\n",
    "\n",
    "for i in soup.find_all('div',class_=\"p-1.5p flex border-b border-b-solid border-cardbordercolor tp:py-1p tp:px-1.5p tp:border-b-0\"):\n",
    "    house_area_emi_price.append(i.text.replace('Not under loan₹',' ').replace('Under Loan₹',' ').replace('₹','     ₹'))\n",
    "    \n",
    "house_area_emi_price"
   ]
  },
  {
   "cell_type": "raw",
   "id": "2c855f6d",
   "metadata": {},
   "source": [
    "9) Write a python program to scrape mentioned details from dineout.co.in :\n",
    "    i) Restaurant name\n",
    "    ii) Cuisine\n",
    "    iii) Location\n",
    "    iv) Ratings\n",
    "    v) Image URL\n",
    "\n",
    "Ans :-"
   ]
  },
  {
   "cell_type": "code",
   "execution_count": 64,
   "id": "732e7f1f",
   "metadata": {},
   "outputs": [],
   "source": [
    "from bs4 import BeautifulSoup\n",
    "import requests"
   ]
  },
  {
   "cell_type": "code",
   "execution_count": 65,
   "id": "499a8b5f",
   "metadata": {},
   "outputs": [],
   "source": [
    "url = requests.get('https://www.dineout.co.in/delhi-restaurants')"
   ]
  },
  {
   "cell_type": "code",
   "execution_count": 66,
   "id": "4b725f2f",
   "metadata": {},
   "outputs": [],
   "source": [
    "soup = BeautifulSoup(url.content,'html.parser')"
   ]
  },
  {
   "cell_type": "code",
   "execution_count": 67,
   "id": "6c9f1471",
   "metadata": {},
   "outputs": [
    {
     "data": {
      "text/plain": [
       "['TamashaConnaught Place, Central Delhi',\n",
       " 'LocalScindia House,Connaught Place, Central Delhi',\n",
       " 'Unplugged CourtyardConnaught Place, Central Delhi',\n",
       " 'The G.T. ROADM-Block,Connaught Place, Central Delhi',\n",
       " 'Ministry Of BeerM-Block,Connaught Place, Central Delhi',\n",
       " 'Connaught Clubhouse MicrobreweryConnaught Place, Central Delhi',\n",
       " \"Chili's American Grill and BarM-Block,Connaught Place, Central Delhi\",\n",
       " 'The Junkyard CafeConnaught Place, Central Delhi',\n",
       " 'QBAConnaught Place, Central Delhi',\n",
       " 'Warehouse CafeConnaught Place, Central Delhi',\n",
       " 'SandozConnaught Place, Central Delhi',\n",
       " 'High 5 - Everyday Wholesale BarConnaught Place, Central Delhi',\n",
       " 'Openhouse CafeConnaught Place, Central Delhi',\n",
       " 'Farzi CafeConnaught Place, Central Delhi',\n",
       " 'Out Of The Box CourtyardConnaught Place, Central Delhi',\n",
       " 'Ardor 2.1 Restaurant and LoungeConnaught Place, Central Delhi',\n",
       " 'Lord of the DrinksConnaught Place, Central Delhi',\n",
       " '38 BarracksM-Block,Connaught Place, Central Delhi',\n",
       " \"Berco'sConnaught Place, Central Delhi\",\n",
       " 'Barbeque NationConnaught Place, Central Delhi',\n",
       " 'My Bar SquareConnaught Place, Central Delhi']"
      ]
     },
     "execution_count": 67,
     "metadata": {},
     "output_type": "execute_result"
    }
   ],
   "source": [
    "restaurants_name = []\n",
    "\n",
    "for i in soup.find_all('div',class_=\"restnt-info cursor\"):\n",
    "    restaurants_name.append(i.text)\n",
    "    \n",
    "restaurants_name"
   ]
  },
  {
   "cell_type": "code",
   "execution_count": 68,
   "id": "367b2fa3",
   "metadata": {},
   "outputs": [
    {
     "data": {
      "text/plain": [
       "['Connaught Place, Central Delhi',\n",
       " 'Scindia House,Connaught Place, Central Delhi',\n",
       " 'Connaught Place, Central Delhi',\n",
       " 'M-Block,Connaught Place, Central Delhi',\n",
       " 'M-Block,Connaught Place, Central Delhi',\n",
       " 'Connaught Place, Central Delhi',\n",
       " 'M-Block,Connaught Place, Central Delhi',\n",
       " 'Connaught Place, Central Delhi',\n",
       " 'Connaught Place, Central Delhi',\n",
       " 'Connaught Place, Central Delhi',\n",
       " 'Connaught Place, Central Delhi',\n",
       " 'Connaught Place, Central Delhi',\n",
       " 'Connaught Place, Central Delhi',\n",
       " 'Connaught Place, Central Delhi',\n",
       " 'Connaught Place, Central Delhi',\n",
       " 'Connaught Place, Central Delhi',\n",
       " 'Connaught Place, Central Delhi',\n",
       " 'M-Block,Connaught Place, Central Delhi',\n",
       " 'Connaught Place, Central Delhi',\n",
       " 'Connaught Place, Central Delhi',\n",
       " 'Connaught Place, Central Delhi']"
      ]
     },
     "execution_count": 68,
     "metadata": {},
     "output_type": "execute_result"
    }
   ],
   "source": [
    "restaurants_location = []\n",
    "\n",
    "for i in soup.find_all('div',class_=\"restnt-loc ellipsis\"):\n",
    "    restaurants_location.append(i.text)\n",
    "    \n",
    "restaurants_location"
   ]
  },
  {
   "cell_type": "code",
   "execution_count": 69,
   "id": "5904fc07",
   "metadata": {},
   "outputs": [
    {
     "data": {
      "text/plain": [
       "['4.2',\n",
       " '4',\n",
       " '4',\n",
       " '4.3',\n",
       " '4',\n",
       " '4.2',\n",
       " '4.3',\n",
       " '4.1',\n",
       " '4.3',\n",
       " '4.1',\n",
       " '4',\n",
       " '3.8',\n",
       " '4.1',\n",
       " '4.2',\n",
       " '4',\n",
       " '3.8',\n",
       " '4.2',\n",
       " '4.3',\n",
       " '4.3',\n",
       " '4.4',\n",
       " '3.8']"
      ]
     },
     "execution_count": 69,
     "metadata": {},
     "output_type": "execute_result"
    }
   ],
   "source": [
    "restaurants_ratings = []\n",
    "\n",
    "for i in soup.find_all('div',class_=\"restnt-rating rating-4\"):\n",
    "    restaurants_ratings.append(i.text)\n",
    "    \n",
    "restaurants_ratings"
   ]
  },
  {
   "cell_type": "code",
   "execution_count": 70,
   "id": "51892ac8",
   "metadata": {},
   "outputs": [
    {
     "data": {
      "text/plain": [
       "['https://im1.dineout.co.in/images/uploads/restaurant/sharpen/2/a/j/p20996-145631488756cd9a0796608.jpg?tr=tr:n-medium',\n",
       " 'https://im1.dineout.co.in/images/uploads/restaurant/sharpen/2/b/t/p27452-15020105505986dcb6d147f.jpg?tr=tr:n-medium',\n",
       " 'https://im1.dineout.co.in/images/uploads/restaurant/sharpen/2/u/y/p20941-15700828565d959028e9f28.jpg?tr=tr:n-medium',\n",
       " 'https://im1.dineout.co.in/images/uploads/restaurant/sharpen/3/m/u/p31393-15972091555f337a43bb961.jpg?tr=tr:n-medium',\n",
       " 'https://im1.dineout.co.in/images/uploads/restaurant/sharpen/3/a/d/p32381-1495943585592a49a166fe7.jpg?tr=tr:n-medium',\n",
       " 'https://im1.dineout.co.in/images/uploads/restaurant/sharpen/7/c/z/p77626-15833232035e5f98437554f.jpg?tr=tr:n-medium',\n",
       " 'https://im1.dineout.co.in/images/uploads/restaurant/sharpen/3/r/w/p31397-164157705861d87a6224564.jpg?tr=tr:n-medium',\n",
       " 'https://im1.dineout.co.in/images/uploads/restaurant/sharpen/2/h/p/p20298-1447661865564991294ad1b.jpg?tr=tr:n-medium',\n",
       " 'https://im1.dineout.co.in/images/uploads/restaurant/sharpen/2/e/e/p29906-16183962346076c44ac433d.jpg?tr=tr:n-medium',\n",
       " 'https://im1.dineout.co.in/images/uploads/restaurant/sharpen/4/h/o/p420-15241335515ad86eaf373ce.jpg?tr=tr:n-medium',\n",
       " 'https://im1.dineout.co.in/images/uploads/restaurant/sharpen/8/e/u/p80493-16064603115fc0a397716de.jpg?tr=tr:n-medium',\n",
       " 'https://im1.dineout.co.in/images/uploads/restaurant/sharpen/6/s/m/p69146-163921872761b47e27e5f71.jpg?tr=tr:n-medium',\n",
       " 'https://im1.dineout.co.in/images/uploads/restaurant/sharpen/1/j/y/p19748-16474299906231c96621c58.jpg?tr=tr:n-medium',\n",
       " 'https://im1.dineout.co.in/images/uploads/restaurant/sharpen/4/y/y/p4199-164188203361dd21b1a3174.jpg?tr=tr:n-medium',\n",
       " 'https://im1.dineout.co.in/images/uploads/restaurant/sharpen/8/x/t/p83921-16017104805f782990b9b0c.jpg?tr=tr:n-medium',\n",
       " 'https://im1.dineout.co.in/images/uploads/restaurant/sharpen/2/y/m/p221-16455303976214cd1d7a086.jpg?tr=tr:n-medium',\n",
       " 'https://im1.dineout.co.in/images/uploads/restaurant/sharpen/1/w/q/p19975-14634080035739d5832c089.jpg?tr=tr:n-medium',\n",
       " 'https://im1.dineout.co.in/images/uploads/restaurant/sharpen/2/y/q/p21171-1631359509613c92152f775.jpg?tr=tr:n-medium',\n",
       " 'https://im1.dineout.co.in/images/uploads/restaurant/sharpen/7/j/r/p752-15474495585c3c34d63c808.jpg?tr=tr:n-medium',\n",
       " 'https://im1.dineout.co.in/images/uploads/restaurant/sharpen/9/h/n/p95-16444959626205045ab0b43.jpg?tr=tr:n-medium',\n",
       " 'https://im1.dineout.co.in/images/uploads/restaurant/sharpen/1/m/i/p12709-15681189525d7798a8c5aa5.jpg?tr=tr:n-medium']"
      ]
     },
     "execution_count": 70,
     "metadata": {},
     "output_type": "execute_result"
    }
   ],
   "source": [
    "restaurants_image_url = []\n",
    "\n",
    "for i in soup.find_all('img',class_=\"no-img\"):\n",
    "    restaurants_image_url.append(i['data-src'])\n",
    "    \n",
    "restaurants_image_url"
   ]
  },
  {
   "cell_type": "code",
   "execution_count": 71,
   "id": "40e300f6",
   "metadata": {},
   "outputs": [],
   "source": [
    "url = requests.get('https://www.dineout.co.in/delhi-restaurants?search_str=cuisines')"
   ]
  },
  {
   "cell_type": "code",
   "execution_count": 72,
   "id": "6ada98e1",
   "metadata": {},
   "outputs": [],
   "source": [
    "soup = BeautifulSoup(url.content,'html.parser')"
   ]
  },
  {
   "cell_type": "code",
   "execution_count": 73,
   "id": "88384756",
   "metadata": {},
   "outputs": [
    {
     "data": {
      "text/plain": [
       "['The EmbassyConnaught Place, Central Delhi',\n",
       " 'The Grill RoomThe Lalit New Delhi,Connaught Place, Central Delhi',\n",
       " 'ZingThe Metropolitan Hotel,Connaught Place, Central Delhi',\n",
       " \"Nando'sM-Block,Connaught Place, Central Delhi\",\n",
       " 'The Salt Cafe Kitchen & BarPreet Vihar, East Delhi',\n",
       " 'AnglowKhan Market, Central Delhi',\n",
       " 'La Vie PizzeriaKhan Market, Central Delhi',\n",
       " \"Smokey's BBQ and GrillKhan Market, Central Delhi\",\n",
       " 'Raftaar - The High Speed Bar and LoungePunjabi Bagh, West Delhi',\n",
       " \"Elma's BrasserieMehar Chand Market,Lodhi Colony, South Delhi\",\n",
       " 'PaparizzaHudson Lane, North Delhi',\n",
       " 'DietliciouzMehar Chand Market,Lodhi Colony, South Delhi',\n",
       " 'Tangy Flavour Multi Cuisine RestaurantLaxmi Nagar, East Delhi',\n",
       " 'SambookasDDA Market Complex,Hudson Lane, North Delhi',\n",
       " 'Mia BellaHauz Khas Village, South Delhi',\n",
       " 'Unwind CafeAnsal Plaza Mall,Khel Gaon, South Delhi',\n",
       " 'The Irish HouseEpicuria Food Mall,Nehru Place, South Delhi',\n",
       " 'The Piano Man Jazz ClubSafdarjung Enclave Market,Safdarjung, South Delhi',\n",
       " 'La Nonna PizzeriaHudson Lane, North Delhi',\n",
       " '3 IdiotssKailash Colony, South Delhi',\n",
       " 'Roadhouse CafeGreater Kailash - 1, South Delhi']"
      ]
     },
     "execution_count": 73,
     "metadata": {},
     "output_type": "execute_result"
    }
   ],
   "source": [
    "cuisines = []\n",
    "\n",
    "for i in soup.find_all('div',class_='restnt-info cursor'):\n",
    "    cuisines.append(i.text)\n",
    "    \n",
    "cuisines"
   ]
  },
  {
   "cell_type": "code",
   "execution_count": 74,
   "id": "2ec655f7",
   "metadata": {},
   "outputs": [
    {
     "data": {
      "text/plain": [
       "['Connaught Place, Central Delhi',\n",
       " 'The Lalit New Delhi,Connaught Place, Central Delhi',\n",
       " 'The Metropolitan Hotel,Connaught Place, Central Delhi',\n",
       " 'M-Block,Connaught Place, Central Delhi',\n",
       " 'Preet Vihar, East Delhi',\n",
       " 'Khan Market, Central Delhi',\n",
       " 'Khan Market, Central Delhi',\n",
       " 'Khan Market, Central Delhi',\n",
       " 'Punjabi Bagh, West Delhi',\n",
       " 'Mehar Chand Market,Lodhi Colony, South Delhi',\n",
       " 'Hudson Lane, North Delhi',\n",
       " 'Mehar Chand Market,Lodhi Colony, South Delhi',\n",
       " 'Laxmi Nagar, East Delhi',\n",
       " 'DDA Market Complex,Hudson Lane, North Delhi',\n",
       " 'Hauz Khas Village, South Delhi',\n",
       " 'Ansal Plaza Mall,Khel Gaon, South Delhi',\n",
       " 'Epicuria Food Mall,Nehru Place, South Delhi',\n",
       " 'Safdarjung Enclave Market,Safdarjung, South Delhi',\n",
       " 'Hudson Lane, North Delhi',\n",
       " 'Kailash Colony, South Delhi',\n",
       " 'Greater Kailash - 1, South Delhi']"
      ]
     },
     "execution_count": 74,
     "metadata": {},
     "output_type": "execute_result"
    }
   ],
   "source": [
    "cuisines_location = []\n",
    "\n",
    "for i in soup.find_all('div',class_='restnt-loc ellipsis'):\n",
    "    cuisines_location.append(i.text)\n",
    "    \n",
    "cuisines_location"
   ]
  },
  {
   "cell_type": "code",
   "execution_count": 75,
   "id": "f152c14d",
   "metadata": {},
   "outputs": [
    {
     "data": {
      "text/plain": [
       "['4.2',\n",
       " '4.2',\n",
       " '3.9',\n",
       " '4.4',\n",
       " '4.3',\n",
       " '4.2',\n",
       " '4.3',\n",
       " '4.3',\n",
       " '4.1',\n",
       " '4.3',\n",
       " '4.4',\n",
       " '3.9',\n",
       " '4.3',\n",
       " '4.3',\n",
       " '3.9',\n",
       " '4.3',\n",
       " '4.3',\n",
       " '4.1',\n",
       " '3.9',\n",
       " '4.3']"
      ]
     },
     "execution_count": 75,
     "metadata": {},
     "output_type": "execute_result"
    }
   ],
   "source": [
    "cuisines_rating = []\n",
    "\n",
    "for i in soup.find_all('div',class_='restnt-rating rating-4'):\n",
    "    cuisines_rating.append(i.text)\n",
    "    \n",
    "cuisines_rating"
   ]
  },
  {
   "cell_type": "code",
   "execution_count": 76,
   "id": "a3ed5c98",
   "metadata": {},
   "outputs": [
    {
     "data": {
      "text/plain": [
       "['https://im1.dineout.co.in/images/uploads/restaurant/sharpen/4/e/u/p456-14473237645644687422a28.jpg?tr=tr:n-medium',\n",
       " 'https://im1.dineout.co.in/images/uploads/restaurant/sharpen/2/h/o/p2872-1486443948589955acc29bb.jpg?tr=tr:n-medium',\n",
       " 'https://im1.dineout.co.in/images/uploads/restaurant/sharpen/2/f/w/p2904-145934966056fbe89c19a1f.jpg?tr=tr:n-medium',\n",
       " 'https://im1.dineout.co.in/images/uploads/restaurant/sharpen/1/r/z/p16769-148714104258a3f8b2a654b.jpg?tr=tr:n-medium',\n",
       " 'https://im1.dineout.co.in/images/uploads/restaurant/sharpen/2/h/e/p21912-1631945687614583d70deb1.jpg?tr=tr:n-medium',\n",
       " 'https://im1.dineout.co.in/images/uploads/restaurant/sharpen/5/r/k/p52421-15496208925c5d569c5de87.jpg?tr=tr:n-medium',\n",
       " 'https://im1.dineout.co.in/images/uploads/restaurant/sharpen/7/h/c/p744-15799514875e2c257f9ba68.jpg?tr=tr:n-medium',\n",
       " 'https://im1.dineout.co.in/images/uploads/restaurant/sharpen/1/g/w/p19695-143745829155addf730aeb1.jpg?tr=tr:n-medium',\n",
       " 'https://im1.dineout.co.in/images/uploads/restaurant/sharpen/2/r/g/p23721-15760498075df09c8f0f2c7.jpg?tr=tr:n-medium',\n",
       " 'https://im1.dineout.co.in/images/uploads/restaurant/sharpen/1/c/y/p13171-164562402062163ad42ca6b.jpg?tr=tr:n-medium',\n",
       " 'https://im1.dineout.co.in/images/uploads/restaurant/sharpen/4/b/e/p44599-164068882561caecb9e01ab.jpg?tr=tr:n-medium',\n",
       " 'https://im1.dineout.co.in/images/uploads/restaurant/sharpen/4/q/y/p4837-15656920305d52907edc23e.jpg?tr=tr:n-medium',\n",
       " 'https://im1.dineout.co.in/images/uploads/restaurant/sharpen/4/d/t/p49724-15544574885ca7239082d9e.jpg?tr=tr:n-medium',\n",
       " 'https://im1.dineout.co.in/images/uploads/restaurant/sharpen/3/t/t/p35669-15107274555a0bdf1f8758c.jpg?tr=tr:n-medium',\n",
       " 'https://im1.dineout.co.in/images/uploads/restaurant/sharpen/1/w/i/p11263-15232530585acaff4215ca5.jpg?tr=tr:n-medium',\n",
       " 'https://im1.dineout.co.in/images/uploads/restaurant/sharpen/4/m/c/p40452-15810810585e3d61e2b9a56.jpg?tr=tr:n-medium',\n",
       " 'https://im1.dineout.co.in/images/uploads/restaurant/sharpen/2/z/r/p26889-150986613159feba930dd52.png?tr=tr:n-medium',\n",
       " 'https://im1.dineout.co.in/images/uploads/restaurant/sharpen/2/m/b/p20050-14442155665614fb0eefeea.jpg?tr=tr:n-medium',\n",
       " 'https://im1.dineout.co.in/images/uploads/restaurant/sharpen/5/i/a/p58686-15621274115d1c2c339820d.jpg?tr=tr:n-medium',\n",
       " 'https://im1.dineout.co.in/images/uploads/restaurant/sharpen/5/d/o/p54701-1636970721619230e1ecc58.jpg?tr=tr:n-medium',\n",
       " 'https://im1.dineout.co.in/images/uploads/restaurant/sharpen/2/d/u/p29664-14829093275863668f8bbec.jpg?tr=tr:n-medium']"
      ]
     },
     "execution_count": 76,
     "metadata": {},
     "output_type": "execute_result"
    }
   ],
   "source": [
    "cuisines_image_url = []\n",
    "\n",
    "for i in soup.find_all('img',class_='no-img'):\n",
    "    cuisines_image_url.append(i['data-src'])\n",
    "    \n",
    "cuisines_image_url"
   ]
  },
  {
   "cell_type": "raw",
   "id": "25d9188b",
   "metadata": {},
   "source": [
    "10) Write a python program to scrape first 10 product details which include product name , price , Image URL from https://www.bewakoof.com/women-plain-t-shirts .\n",
    "\n",
    "Ans :-"
   ]
  },
  {
   "cell_type": "code",
   "execution_count": 156,
   "id": "6b26e52d",
   "metadata": {},
   "outputs": [],
   "source": [
    "from bs4 import BeautifulSoup\n",
    "import requests"
   ]
  },
  {
   "cell_type": "code",
   "execution_count": 157,
   "id": "b7aaaed9",
   "metadata": {},
   "outputs": [],
   "source": [
    "url = requests.get(\"https://www.bewakoof.com/women-plain-t-shirts\")"
   ]
  },
  {
   "cell_type": "code",
   "execution_count": 158,
   "id": "fa9a507c",
   "metadata": {},
   "outputs": [],
   "source": [
    "soup = BeautifulSoup(url.content,'html.parser')"
   ]
  },
  {
   "cell_type": "code",
   "execution_count": 165,
   "id": "57e7766a",
   "metadata": {},
   "outputs": [
    {
     "data": {
      "text/plain": [
       "['Upbeat Blue Side Cut T-shirt ₹ 299899 ₹279For TriBe Members ',\n",
       " \"Women's Melange Half Sleeve Raglan T-Shirt ₹ 349499 ₹319For TriBe Members \",\n",
       " 'Vax Yellow Contrast Neck Half Sleeves T-shirt ₹ 349799FEW LEFT ₹319For TriBe Members ',\n",
       " 'Apricot Orange Round Neck 3/4th Sleeve T-Shirt ₹ 249399FEW LEFT ₹229For TriBe Members ',\n",
       " 'Imperial Red V-Neck Varsity Rib T-shirt ₹ 249699 ₹229For TriBe Members ',\n",
       " 'Ceylon Yellow Half Sleeve Relaxed Fit T-Shirt ₹ 249699 ₹229For TriBe Members ',\n",
       " \"Women's Grey T-shirt ₹ 249449 ₹229For TriBe Members \",\n",
       " 'Upbeat Blue Color Block T-shirt ₹ 399799 ₹369For TriBe Members ',\n",
       " 'Feel Good Lilac Plus Size Colorblock T-shirt ₹ 499849 ₹459For TriBe Members ',\n",
       " \"Women's Solid Casual Half Sleeve White Shirt ₹ 3491099FEW LEFT ₹319For TriBe Members \"]"
      ]
     },
     "execution_count": 165,
     "metadata": {},
     "output_type": "execute_result"
    }
   ],
   "source": [
    "products_name_price = [] \n",
    "\n",
    "for i in soup.find_all('div',class_=\"productCardDetail\"):\n",
    "    products_name_price.append(i.text.replace('₹',' ₹'))\n",
    "    \n",
    "products_name_price[1:11]"
   ]
  },
  {
   "cell_type": "code",
   "execution_count": 167,
   "id": "c4b09c50",
   "metadata": {},
   "outputs": [
    {
     "data": {
      "text/plain": [
       "['https://images.bewakoof.com/t320/bachelor-button-side-cut-t-shirt-463560-1643559958-1.jpg',\n",
       " 'https://images.bewakoof.com/t320/melange-ranglan-sleeve-tee-women-melange-ranglan-sleeve-tee-302633-1614076814.jpg',\n",
       " 'https://images.bewakoof.com/t320/vax-yellow-contrast-neck-half-sleeves-t-shirt-333864-1638213470-1.jpg',\n",
       " 'https://images.bewakoof.com/t320/apricot-orange-round-neck-3-4th-sleeve-t-shirt-241916-1636983999-1.jpg',\n",
       " 'https://images.bewakoof.com/t320/imperial-red-v-neck-varsity-rib-t-shirt-272308-1638212484-1.jpg',\n",
       " 'https://images.bewakoof.com/t320/ceylon-yellow-half-sleeve-relaxed-fit-t-shirt-316236-1638214566-1.jpg',\n",
       " 'https://images.bewakoof.com/t320/meteor-grey-half-sleeve-t-shirt-232368-1637995365-1.jpg',\n",
       " 'https://images.bewakoof.com/t320/bachelor-button-snow-white-jasmin-green-diagonal-color-block-t-shirt-463946-1643559601-1.jpg',\n",
       " 'https://images.bewakoof.com/t320/orchid-petal-nimbus-cloud-wax-yellow-plus-size-colorblock-half-sleeve-t-shirt-454729-1640789965-1.jpg',\n",
       " 'https://images.bewakoof.com/t320/women-s-solid-casual-half-sleeve-white-shirt-353223-1638214219-1.jpg']"
      ]
     },
     "execution_count": 167,
     "metadata": {},
     "output_type": "execute_result"
    }
   ],
   "source": [
    "products_imageURL = [] \n",
    "\n",
    "for i in soup.find_all('img',class_=\"productImgTag\"):\n",
    "    products_imageURL.append(i['src'])\n",
    "    \n",
    "products_imageURL[1:11]"
   ]
  },
  {
   "cell_type": "code",
   "execution_count": null,
   "id": "a4290a80",
   "metadata": {},
   "outputs": [],
   "source": []
  }
 ],
 "metadata": {
  "kernelspec": {
   "display_name": "Python 3",
   "language": "python",
   "name": "python3"
  },
  "language_info": {
   "codemirror_mode": {
    "name": "ipython",
    "version": 3
   },
   "file_extension": ".py",
   "mimetype": "text/x-python",
   "name": "python",
   "nbconvert_exporter": "python",
   "pygments_lexer": "ipython3",
   "version": "3.8.8"
  }
 },
 "nbformat": 4,
 "nbformat_minor": 5
}
